{
 "cells": [
  {
   "cell_type": "markdown",
   "metadata": {},
   "source": [
    "# Import Libraries and Load Data"
   ]
  },
  {
   "cell_type": "code",
   "execution_count": 1,
   "metadata": {},
   "outputs": [],
   "source": [
    "import pandas as pd\n",
    "import xgboost as xgb\n",
    "from sklearn.metrics import mean_squared_error, mean_absolute_error, r2_score, mean_absolute_percentage_error\n",
    "from sklearn.model_selection import GridSearchCV\n",
    "from sklearn.model_selection import KFold, cross_val_score, cross_validate\n",
    "from sklearn.model_selection import RandomizedSearchCV\n",
    "from sklearn.metrics._scorer import make_scorer\n",
    "import numpy as np\n",
    "from loguru import logger\n",
    "import matplotlib.pyplot as plt\n",
    "from scipy.stats import randint\n",
    "\n",
    "from utils import SpaceTimeSplits\n",
    "from metrics import get_metrics\n",
    "\n",
    "pd.options.mode.chained_assignment = None   # to disable chained assignment warning (by default, this is \"warn\")"
   ]
  },
  {
   "cell_type": "code",
   "execution_count": 2,
   "metadata": {},
   "outputs": [],
   "source": [
    "# From the validation Actual and Prediction columns\n",
    "target_metrics = {\n",
    "    'rmse': 30.874488274822923,\n",
    "    'mae': 10.108542659950823,\n",
    "    'mape': 0.5554461311204274,\n",
    "    'r2': 0.8229691722882178,\n",
    "    'bias': 5.260115649343916,\n",
    "    'pct_bias': -0.2124630453389412,\n",
    "    'smape': 0.4586837552555118\n",
    "}"
   ]
  },
  {
   "cell_type": "code",
   "execution_count": 3,
   "metadata": {},
   "outputs": [],
   "source": [
    "TO_NORM_FEATS = True # set to True to normalize features\n",
    "TO_NORM_LABELS = False # set to True to normalize labels\n",
    "IS_PRED_EXP = False  # Set to True to directly predict TSS as np.exp(value). otherwise, estimate the ln of the actual TSS value and just modify for measuring metrics\n",
    "GRIDSEARCH_CV_SCORING = 'neg_root_mean_squared_error'\n",
    "\"\"\"Other options for grid cv scoring:\n",
    " 'neg_mean_absolute_error',\n",
    " 'neg_mean_absolute_percentage_error',\n",
    " 'neg_mean_gamma_deviance',\n",
    " 'neg_mean_poisson_deviance',\n",
    " 'neg_mean_squared_error',\n",
    " 'neg_mean_squared_log_error',\n",
    " 'neg_median_absolute_error',\n",
    " 'neg_root_mean_squared_error',\n",
    " 'r2',\n",
    " \"\"\"\n",
    "\n",
    "CV_FOLDS = 3"
   ]
  },
  {
   "cell_type": "code",
   "execution_count": 4,
   "metadata": {},
   "outputs": [
    {
     "name": "stderr",
     "output_type": "stream",
     "text": [
      "/var/folders/1l/36wkr52s0qg1mbnfl6h1v30m0000gn/T/ipykernel_53856/228957105.py:2: DtypeWarning: Columns (176,180,182) have mixed types. Specify dtype option on import or set low_memory=False.\n",
      "  train_data = pd.read_csv(\"../data/train_raw.csv\")\n"
     ]
    }
   ],
   "source": [
    "# train_data = pd.read_csv(\"../data/train_clean_v1.csv\")\n",
    "train_data = pd.read_csv(\"../data/train_raw.csv\")\n",
    "val_data = pd.read_csv(\"../data/validation_v1.csv\")"
   ]
  },
  {
   "cell_type": "markdown",
   "metadata": {},
   "source": [
    "## Clean and normalize data"
   ]
  },
  {
   "cell_type": "code",
   "execution_count": 5,
   "metadata": {},
   "outputs": [],
   "source": [
    "label = \"value\"\n",
    "# feats = [x for x in train_data.columns if x!=label]\n",
    "feats = ['nir', 'R.BS', 'swir2', 'N_R', 'BG', 'swir1', 'RG', 'bright', 'GR']\n",
    "group_names = [\"time_group\", \"space_group\"]"
   ]
  },
  {
   "cell_type": "code",
   "execution_count": 6,
   "metadata": {},
   "outputs": [
    {
     "name": "stderr",
     "output_type": "stream",
     "text": [
      "2022-10-13 13:23:06.416 | DEBUG    | __main__:<cell line: 1>:1 - feats: ['nir', 'R.BS', 'swir2', 'N_R', 'BG', 'swir1', 'RG', 'bright', 'GR']\n",
      "2022-10-13 13:23:06.418 | DEBUG    | __main__:<cell line: 2>:2 - label: value\n"
     ]
    }
   ],
   "source": [
    "logger.debug(f\"feats: {feats}\")\n",
    "logger.debug(f\"label: {label}\")"
   ]
  },
  {
   "cell_type": "code",
   "execution_count": 7,
   "metadata": {},
   "outputs": [],
   "source": [
    "x, y, groups = train_data[feats], train_data[label], train_data[group_names]\n",
    "x_test, y_test = val_data[feats], val_data[label]\n",
    "\n",
    "if IS_PRED_EXP:\n",
    "    y = np.exp(y)"
   ]
  },
  {
   "cell_type": "code",
   "execution_count": 8,
   "metadata": {},
   "outputs": [
    {
     "data": {
      "text/html": [
       "<div>\n",
       "<style scoped>\n",
       "    .dataframe tbody tr th:only-of-type {\n",
       "        vertical-align: middle;\n",
       "    }\n",
       "\n",
       "    .dataframe tbody tr th {\n",
       "        vertical-align: top;\n",
       "    }\n",
       "\n",
       "    .dataframe thead th {\n",
       "        text-align: right;\n",
       "    }\n",
       "</style>\n",
       "<table border=\"1\" class=\"dataframe\">\n",
       "  <thead>\n",
       "    <tr style=\"text-align: right;\">\n",
       "      <th></th>\n",
       "      <th>nir</th>\n",
       "      <th>R.BS</th>\n",
       "      <th>swir2</th>\n",
       "      <th>N_R</th>\n",
       "      <th>BG</th>\n",
       "      <th>swir1</th>\n",
       "      <th>RG</th>\n",
       "      <th>bright</th>\n",
       "      <th>GR</th>\n",
       "    </tr>\n",
       "  </thead>\n",
       "  <tbody>\n",
       "    <tr>\n",
       "      <th>count</th>\n",
       "      <td>28933.000000</td>\n",
       "      <td>28933.000000</td>\n",
       "      <td>28933.000000</td>\n",
       "      <td>28933.000000</td>\n",
       "      <td>28933.000000</td>\n",
       "      <td>28933.000000</td>\n",
       "      <td>28933.000000</td>\n",
       "      <td>28933.000000</td>\n",
       "      <td>28933.000000</td>\n",
       "    </tr>\n",
       "    <tr>\n",
       "      <th>mean</th>\n",
       "      <td>406.625089</td>\n",
       "      <td>0.725763</td>\n",
       "      <td>122.661092</td>\n",
       "      <td>-28.681465</td>\n",
       "      <td>0.833156</td>\n",
       "      <td>173.137510</td>\n",
       "      <td>0.808549</td>\n",
       "      <td>0.023701</td>\n",
       "      <td>1.295260</td>\n",
       "    </tr>\n",
       "    <tr>\n",
       "      <th>std</th>\n",
       "      <td>254.664557</td>\n",
       "      <td>0.219667</td>\n",
       "      <td>109.282147</td>\n",
       "      <td>177.936479</td>\n",
       "      <td>0.154766</td>\n",
       "      <td>141.121048</td>\n",
       "      <td>0.166554</td>\n",
       "      <td>0.011047</td>\n",
       "      <td>0.302089</td>\n",
       "    </tr>\n",
       "    <tr>\n",
       "      <th>min</th>\n",
       "      <td>2.534454</td>\n",
       "      <td>0.144302</td>\n",
       "      <td>2.000000</td>\n",
       "      <td>-2095.398686</td>\n",
       "      <td>0.057631</td>\n",
       "      <td>2.000000</td>\n",
       "      <td>0.228465</td>\n",
       "      <td>0.003515</td>\n",
       "      <td>0.554937</td>\n",
       "    </tr>\n",
       "    <tr>\n",
       "      <th>25%</th>\n",
       "      <td>217.000000</td>\n",
       "      <td>0.580557</td>\n",
       "      <td>48.000000</td>\n",
       "      <td>-120.000000</td>\n",
       "      <td>0.726007</td>\n",
       "      <td>72.000000</td>\n",
       "      <td>0.698592</td>\n",
       "      <td>0.015900</td>\n",
       "      <td>1.093750</td>\n",
       "    </tr>\n",
       "    <tr>\n",
       "      <th>50%</th>\n",
       "      <td>343.837277</td>\n",
       "      <td>0.679642</td>\n",
       "      <td>87.000000</td>\n",
       "      <td>-29.072158</td>\n",
       "      <td>0.817006</td>\n",
       "      <td>130.373015</td>\n",
       "      <td>0.802954</td>\n",
       "      <td>0.021755</td>\n",
       "      <td>1.245402</td>\n",
       "    </tr>\n",
       "    <tr>\n",
       "      <th>75%</th>\n",
       "      <td>541.000000</td>\n",
       "      <td>0.826498</td>\n",
       "      <td>159.000000</td>\n",
       "      <td>68.576429</td>\n",
       "      <td>0.923061</td>\n",
       "      <td>228.000000</td>\n",
       "      <td>0.914286</td>\n",
       "      <td>0.029093</td>\n",
       "      <td>1.431451</td>\n",
       "    </tr>\n",
       "    <tr>\n",
       "      <th>max</th>\n",
       "      <td>2322.000000</td>\n",
       "      <td>2.877701</td>\n",
       "      <td>853.000000</td>\n",
       "      <td>835.000000</td>\n",
       "      <td>2.528471</td>\n",
       "      <td>1010.000000</td>\n",
       "      <td>1.802007</td>\n",
       "      <td>0.145566</td>\n",
       "      <td>4.377046</td>\n",
       "    </tr>\n",
       "  </tbody>\n",
       "</table>\n",
       "</div>"
      ],
      "text/plain": [
       "                nir          R.BS         swir2           N_R            BG  \\\n",
       "count  28933.000000  28933.000000  28933.000000  28933.000000  28933.000000   \n",
       "mean     406.625089      0.725763    122.661092    -28.681465      0.833156   \n",
       "std      254.664557      0.219667    109.282147    177.936479      0.154766   \n",
       "min        2.534454      0.144302      2.000000  -2095.398686      0.057631   \n",
       "25%      217.000000      0.580557     48.000000   -120.000000      0.726007   \n",
       "50%      343.837277      0.679642     87.000000    -29.072158      0.817006   \n",
       "75%      541.000000      0.826498    159.000000     68.576429      0.923061   \n",
       "max     2322.000000      2.877701    853.000000    835.000000      2.528471   \n",
       "\n",
       "              swir1            RG        bright            GR  \n",
       "count  28933.000000  28933.000000  28933.000000  28933.000000  \n",
       "mean     173.137510      0.808549      0.023701      1.295260  \n",
       "std      141.121048      0.166554      0.011047      0.302089  \n",
       "min        2.000000      0.228465      0.003515      0.554937  \n",
       "25%       72.000000      0.698592      0.015900      1.093750  \n",
       "50%      130.373015      0.802954      0.021755      1.245402  \n",
       "75%      228.000000      0.914286      0.029093      1.431451  \n",
       "max     1010.000000      1.802007      0.145566      4.377046  "
      ]
     },
     "execution_count": 8,
     "metadata": {},
     "output_type": "execute_result"
    }
   ],
   "source": [
    "x.describe()"
   ]
  },
  {
   "cell_type": "code",
   "execution_count": 9,
   "metadata": {},
   "outputs": [],
   "source": [
    "def normalize_train_feat(df, col_name):\n",
    "    mu = np.mean(df[col_name])\n",
    "    sigma = np.var(df[col_name])**0.5\n",
    "    return (df[col_name]-mu)/sigma, mu, sigma\n",
    "\n",
    "def normalize_test_feat(df, col_name, mu, sigma):\n",
    "    return (df[col_name]-mu)/sigma\n",
    "\n",
    "if TO_NORM_FEATS:\n",
    "    norm_params = {x:None for x in feats}\n",
    "    for col_name in feats:\n",
    "        # Normalize train features\n",
    "        col_val, mu, sigma = normalize_train_feat(x, col_name)\n",
    "        x.loc[:, (col_name)] = col_val\n",
    "        norm_params[col_name] = [mu, sigma]\n",
    "\n",
    "        # Normalize test features\n",
    "        col_val = normalize_test_feat(x_test, col_name, mu, sigma)\n",
    "        x_test.loc[:, (col_name)] = col_val\n",
    "if TO_NORM_LABELS:\n",
    "    col_val, label_mu, label_sigma = normalize_train_feat(train_data, label)\n",
    "    y = col_val"
   ]
  },
  {
   "cell_type": "code",
   "execution_count": 10,
   "metadata": {},
   "outputs": [
    {
     "data": {
      "text/html": [
       "<div>\n",
       "<style scoped>\n",
       "    .dataframe tbody tr th:only-of-type {\n",
       "        vertical-align: middle;\n",
       "    }\n",
       "\n",
       "    .dataframe tbody tr th {\n",
       "        vertical-align: top;\n",
       "    }\n",
       "\n",
       "    .dataframe thead th {\n",
       "        text-align: right;\n",
       "    }\n",
       "</style>\n",
       "<table border=\"1\" class=\"dataframe\">\n",
       "  <thead>\n",
       "    <tr style=\"text-align: right;\">\n",
       "      <th></th>\n",
       "      <th>nir</th>\n",
       "      <th>R.BS</th>\n",
       "      <th>swir2</th>\n",
       "      <th>N_R</th>\n",
       "      <th>BG</th>\n",
       "      <th>swir1</th>\n",
       "      <th>RG</th>\n",
       "      <th>bright</th>\n",
       "      <th>GR</th>\n",
       "    </tr>\n",
       "  </thead>\n",
       "  <tbody>\n",
       "    <tr>\n",
       "      <th>count</th>\n",
       "      <td>2.893300e+04</td>\n",
       "      <td>2.893300e+04</td>\n",
       "      <td>2.893300e+04</td>\n",
       "      <td>2.893300e+04</td>\n",
       "      <td>2.893300e+04</td>\n",
       "      <td>2.893300e+04</td>\n",
       "      <td>2.893300e+04</td>\n",
       "      <td>2.893300e+04</td>\n",
       "      <td>2.893300e+04</td>\n",
       "    </tr>\n",
       "    <tr>\n",
       "      <th>mean</th>\n",
       "      <td>1.964657e-16</td>\n",
       "      <td>-3.497089e-16</td>\n",
       "      <td>-1.041268e-16</td>\n",
       "      <td>2.357588e-17</td>\n",
       "      <td>-4.224012e-16</td>\n",
       "      <td>-1.178794e-16</td>\n",
       "      <td>8.978482e-16</td>\n",
       "      <td>-1.060915e-16</td>\n",
       "      <td>2.730873e-16</td>\n",
       "    </tr>\n",
       "    <tr>\n",
       "      <th>std</th>\n",
       "      <td>1.000017e+00</td>\n",
       "      <td>1.000017e+00</td>\n",
       "      <td>1.000017e+00</td>\n",
       "      <td>1.000017e+00</td>\n",
       "      <td>1.000017e+00</td>\n",
       "      <td>1.000017e+00</td>\n",
       "      <td>1.000017e+00</td>\n",
       "      <td>1.000017e+00</td>\n",
       "      <td>1.000017e+00</td>\n",
       "    </tr>\n",
       "    <tr>\n",
       "      <th>min</th>\n",
       "      <td>-1.586784e+00</td>\n",
       "      <td>-2.647058e+00</td>\n",
       "      <td>-1.104144e+00</td>\n",
       "      <td>-1.161512e+01</td>\n",
       "      <td>-5.011054e+00</td>\n",
       "      <td>-1.212721e+00</td>\n",
       "      <td>-3.482913e+00</td>\n",
       "      <td>-1.827313e+00</td>\n",
       "      <td>-2.450723e+00</td>\n",
       "    </tr>\n",
       "    <tr>\n",
       "      <th>25%</th>\n",
       "      <td>-7.446202e-01</td>\n",
       "      <td>-6.610375e-01</td>\n",
       "      <td>-6.832075e-01</td>\n",
       "      <td>-5.132175e-01</td>\n",
       "      <td>-6.923449e-01</td>\n",
       "      <td>-7.166844e-01</td>\n",
       "      <td>-6.602007e-01</td>\n",
       "      <td>-7.061898e-01</td>\n",
       "      <td>-6.670680e-01</td>\n",
       "    </tr>\n",
       "    <tr>\n",
       "      <th>50%</th>\n",
       "      <td>-2.465553e-01</td>\n",
       "      <td>-2.099630e-01</td>\n",
       "      <td>-3.263269e-01</td>\n",
       "      <td>-2.195726e-03</td>\n",
       "      <td>-1.043512e-01</td>\n",
       "      <td>-3.030394e-01</td>\n",
       "      <td>-3.359657e-02</td>\n",
       "      <td>-1.761720e-01</td>\n",
       "      <td>-1.650485e-01</td>\n",
       "    </tr>\n",
       "    <tr>\n",
       "      <th>75%</th>\n",
       "      <td>5.276637e-01</td>\n",
       "      <td>4.585900e-01</td>\n",
       "      <td>3.325295e-01</td>\n",
       "      <td>5.465972e-01</td>\n",
       "      <td>5.809218e-01</td>\n",
       "      <td>3.887686e-01</td>\n",
       "      <td>6.348580e-01</td>\n",
       "      <td>4.880842e-01</td>\n",
       "      <td>4.508378e-01</td>\n",
       "    </tr>\n",
       "    <tr>\n",
       "      <th>max</th>\n",
       "      <td>7.521298e+00</td>\n",
       "      <td>9.796527e+00</td>\n",
       "      <td>6.683173e+00</td>\n",
       "      <td>4.853959e+00</td>\n",
       "      <td>1.095427e+01</td>\n",
       "      <td>5.930206e+00</td>\n",
       "      <td>5.964869e+00</td>\n",
       "      <td>1.103138e+01</td>\n",
       "      <td>1.020175e+01</td>\n",
       "    </tr>\n",
       "  </tbody>\n",
       "</table>\n",
       "</div>"
      ],
      "text/plain": [
       "                nir          R.BS         swir2           N_R            BG  \\\n",
       "count  2.893300e+04  2.893300e+04  2.893300e+04  2.893300e+04  2.893300e+04   \n",
       "mean   1.964657e-16 -3.497089e-16 -1.041268e-16  2.357588e-17 -4.224012e-16   \n",
       "std    1.000017e+00  1.000017e+00  1.000017e+00  1.000017e+00  1.000017e+00   \n",
       "min   -1.586784e+00 -2.647058e+00 -1.104144e+00 -1.161512e+01 -5.011054e+00   \n",
       "25%   -7.446202e-01 -6.610375e-01 -6.832075e-01 -5.132175e-01 -6.923449e-01   \n",
       "50%   -2.465553e-01 -2.099630e-01 -3.263269e-01 -2.195726e-03 -1.043512e-01   \n",
       "75%    5.276637e-01  4.585900e-01  3.325295e-01  5.465972e-01  5.809218e-01   \n",
       "max    7.521298e+00  9.796527e+00  6.683173e+00  4.853959e+00  1.095427e+01   \n",
       "\n",
       "              swir1            RG        bright            GR  \n",
       "count  2.893300e+04  2.893300e+04  2.893300e+04  2.893300e+04  \n",
       "mean  -1.178794e-16  8.978482e-16 -1.060915e-16  2.730873e-16  \n",
       "std    1.000017e+00  1.000017e+00  1.000017e+00  1.000017e+00  \n",
       "min   -1.212721e+00 -3.482913e+00 -1.827313e+00 -2.450723e+00  \n",
       "25%   -7.166844e-01 -6.602007e-01 -7.061898e-01 -6.670680e-01  \n",
       "50%   -3.030394e-01 -3.359657e-02 -1.761720e-01 -1.650485e-01  \n",
       "75%    3.887686e-01  6.348580e-01  4.880842e-01  4.508378e-01  \n",
       "max    5.930206e+00  5.964869e+00  1.103138e+01  1.020175e+01  "
      ]
     },
     "execution_count": 10,
     "metadata": {},
     "output_type": "execute_result"
    }
   ],
   "source": [
    "x.describe()"
   ]
  },
  {
   "cell_type": "code",
   "execution_count": 11,
   "metadata": {},
   "outputs": [
    {
     "data": {
      "text/plain": [
       "count    28933.000000\n",
       "mean         2.542637\n",
       "std          1.045167\n",
       "min         -2.197235\n",
       "25%          1.856298\n",
       "50%          2.484907\n",
       "75%          3.178054\n",
       "max          9.296518\n",
       "Name: value, dtype: float64"
      ]
     },
     "execution_count": 11,
     "metadata": {},
     "output_type": "execute_result"
    }
   ],
   "source": [
    "train_data.describe()[\"value\"]"
   ]
  },
  {
   "cell_type": "markdown",
   "metadata": {},
   "source": [
    "# Train XGB Models"
   ]
  },
  {
   "cell_type": "markdown",
   "metadata": {},
   "source": [
    "## Define Custom Scorers for CV"
   ]
  },
  {
   "cell_type": "code",
   "execution_count": 12,
   "metadata": {},
   "outputs": [],
   "source": [
    "\n",
    "def adjusted_rmse(y_true, y_pred, **kwargs):\n",
    "    # print(f\"y_true: {y_true.shape}, y_pred: {y_pred.shape}\")\n",
    "    if IS_PRED_EXP:\n",
    "        rmse = np.sqrt(mean_squared_error(y_true, y_pred))\n",
    "    else:\n",
    "        rmse = np.sqrt(mean_squared_error(np.exp(y_true), np.exp(y_pred)))\n",
    "    # print(f\"rmse: {rmse}\")\n",
    "    return rmse\n",
    "\n",
    "def adjusted_mae(y_true, y_pred, **kwargs):\n",
    "    # print(f\"y_true: {y_true.shape}, y_pred: {y_pred.shape}\")\n",
    "    if IS_PRED_EXP:\n",
    "        mae = mean_absolute_error(y_true, y_pred)\n",
    "    else:\n",
    "        mae = mean_absolute_error(np.exp(y_true), np.exp(y_pred))\n",
    "    # print(f\"mae: {mae}\")\n",
    "    return mae\n",
    "\n",
    "def adjusted_mape(y_true, y_pred, **kwargs):\n",
    "    # print(f\"y_true: {y_true.shape}, y_pred: {y_pred.shape}\")\n",
    "    if IS_PRED_EXP:\n",
    "        mape = mean_absolute_percentage_error(y_true, y_pred)\n",
    "    else:\n",
    "        mape = mean_absolute_percentage_error(np.exp(y_true), np.exp(y_pred))\n",
    "    # print(f\"mape: {mape}\")\n",
    "    return mape\n",
    "\n",
    "\n",
    "def adjusted_r2(y_true, y_pred, **kwargs):\n",
    "    # print(f\"y_true: {y_true.shape}, y_pred: {y_pred.shape}\")\n",
    "    if IS_PRED_EXP:\n",
    "        r2 = r2_score(y_true, y_pred)\n",
    "    else:\n",
    "        r2 = r2_score(np.exp(y_true), np.exp(y_pred))\n",
    "    # print(f\"r2: {r2}\")\n",
    "    return r2\n",
    "\n",
    "rmse_scorer = make_scorer(adjusted_rmse, greater_is_better=False)\n",
    "mae_scorer = make_scorer(adjusted_mae, greater_is_better=False)\n",
    "r2_scorer = make_scorer(adjusted_r2, greater_is_better=True)\n",
    "mape_scorer = make_scorer(adjusted_mape, greater_is_better=False)"
   ]
  },
  {
   "cell_type": "markdown",
   "metadata": {},
   "source": [
    "## Train Model with Similar Params as R Model"
   ]
  },
  {
   "cell_type": "code",
   "execution_count": 13,
   "metadata": {},
   "outputs": [
    {
     "data": {
      "text/html": [
       "<div>\n",
       "<style scoped>\n",
       "    .dataframe tbody tr th:only-of-type {\n",
       "        vertical-align: middle;\n",
       "    }\n",
       "\n",
       "    .dataframe tbody tr th {\n",
       "        vertical-align: top;\n",
       "    }\n",
       "\n",
       "    .dataframe thead th {\n",
       "        text-align: right;\n",
       "    }\n",
       "</style>\n",
       "<table border=\"1\" class=\"dataframe\">\n",
       "  <thead>\n",
       "    <tr style=\"text-align: right;\">\n",
       "      <th></th>\n",
       "      <th>rmse</th>\n",
       "      <th>mae</th>\n",
       "      <th>mape</th>\n",
       "      <th>r2</th>\n",
       "      <th>bias</th>\n",
       "      <th>pct_bias</th>\n",
       "      <th>smape</th>\n",
       "      <th>source</th>\n",
       "    </tr>\n",
       "  </thead>\n",
       "  <tbody>\n",
       "    <tr>\n",
       "      <th>0</th>\n",
       "      <td>117.546048</td>\n",
       "      <td>15.814622</td>\n",
       "      <td>0.824805</td>\n",
       "      <td>0.043729</td>\n",
       "      <td>10.161883</td>\n",
       "      <td>-0.404225</td>\n",
       "      <td>0.600158</td>\n",
       "      <td>train set</td>\n",
       "    </tr>\n",
       "    <tr>\n",
       "      <th>1</th>\n",
       "      <td>67.977775</td>\n",
       "      <td>15.586608</td>\n",
       "      <td>0.836105</td>\n",
       "      <td>0.141810</td>\n",
       "      <td>9.902953</td>\n",
       "      <td>-0.414352</td>\n",
       "      <td>0.600498</td>\n",
       "      <td>test set</td>\n",
       "    </tr>\n",
       "    <tr>\n",
       "      <th>2</th>\n",
       "      <td>30.874488</td>\n",
       "      <td>10.108543</td>\n",
       "      <td>0.555446</td>\n",
       "      <td>0.822969</td>\n",
       "      <td>5.260116</td>\n",
       "      <td>-0.212463</td>\n",
       "      <td>0.458684</td>\n",
       "      <td>test set target</td>\n",
       "    </tr>\n",
       "  </tbody>\n",
       "</table>\n",
       "</div>"
      ],
      "text/plain": [
       "         rmse        mae      mape        r2       bias  pct_bias     smape  \\\n",
       "0  117.546048  15.814622  0.824805  0.043729  10.161883 -0.404225  0.600158   \n",
       "1   67.977775  15.586608  0.836105  0.141810   9.902953 -0.414352  0.600498   \n",
       "2   30.874488  10.108543  0.555446  0.822969   5.260116 -0.212463  0.458684   \n",
       "\n",
       "            source  \n",
       "0        train set  \n",
       "1         test set  \n",
       "2  test set target  "
      ]
     },
     "execution_count": 13,
     "metadata": {},
     "output_type": "execute_result"
    }
   ],
   "source": [
    "\n",
    "init_param = {\n",
    " 'n_estimators': 100, # num rounds\n",
    " 'alpha': 0,\n",
    " 'lambda': 1,\n",
    " 'eta': 0.3,    # learning_rate\n",
    " 'objective':'reg:squarederror',\n",
    " 'booster': \"gblinear\",\n",
    " \"updater\": \"coord_descent\",\n",
    "}\n",
    "\n",
    "\n",
    "xgb_reg = xgb.XGBRegressor(**init_param)\n",
    "xgb_reg.fit(x,y)\n",
    "train_pred = xgb_reg.predict(x)\n",
    "\n",
    "if IS_PRED_EXP:\n",
    "    train_metrics = get_metrics(y, train_pred)\n",
    "else:\n",
    "    train_metrics = get_metrics(np.exp(y), np.exp(train_pred))\n",
    "# print(f\"train_metrics: {train_metrics}\")\n",
    "\n",
    "test_pred = xgb_reg.predict(x_test)\n",
    "if TO_NORM_LABELS:\n",
    "    # reverse normalization\n",
    "    test_pred = (test_pred*label_sigma) + label_mu\n",
    "if IS_PRED_EXP:\n",
    "    test_metrics = get_metrics(y_test, test_pred)\n",
    "else:\n",
    "    test_metrics = get_metrics(y_test,  np.round(np.exp(test_pred),2))\n",
    "\n",
    "# Display metrics\n",
    "train_metrics[\"source\"] = \"train set\"\n",
    "test_metrics[\"source\"] = \"test set\"\n",
    "target_metrics[\"source\"] = \"test set target\"\n",
    "ds = [train_metrics, test_metrics, target_metrics]\n",
    "pd.DataFrame(ds)"
   ]
  },
  {
   "cell_type": "markdown",
   "metadata": {},
   "source": [
    "# Current Best XGB Model"
   ]
  },
  {
   "cell_type": "code",
   "execution_count": 32,
   "metadata": {},
   "outputs": [
    {
     "name": "stdout",
     "output_type": "stream",
     "text": [
      "multi_score: {'fit_time': array([1.64113307, 1.90127683, 1.92168117]), 'score_time': array([0.00843596, 0.00390291, 0.00433993]), 'test_rmse': array([-22.44456817, -38.05622588, -29.86181897]), 'test_mae': array([-12.84932183, -16.22882556, -14.49516155]), 'test_r2': array([0.13382471, 0.64286406, 0.41693006]), 'test_mape': array([-0.60123984, -0.93209807, -0.57206089])}\n"
     ]
    },
    {
     "data": {
      "text/html": [
       "<div>\n",
       "<style scoped>\n",
       "    .dataframe tbody tr th:only-of-type {\n",
       "        vertical-align: middle;\n",
       "    }\n",
       "\n",
       "    .dataframe tbody tr th {\n",
       "        vertical-align: top;\n",
       "    }\n",
       "\n",
       "    .dataframe thead th {\n",
       "        text-align: right;\n",
       "    }\n",
       "</style>\n",
       "<table border=\"1\" class=\"dataframe\">\n",
       "  <thead>\n",
       "    <tr style=\"text-align: right;\">\n",
       "      <th></th>\n",
       "      <th>rmse</th>\n",
       "      <th>mae</th>\n",
       "      <th>mape</th>\n",
       "      <th>r2</th>\n",
       "      <th>bias</th>\n",
       "      <th>pct_bias</th>\n",
       "      <th>smape</th>\n",
       "      <th>source</th>\n",
       "    </tr>\n",
       "  </thead>\n",
       "  <tbody>\n",
       "    <tr>\n",
       "      <th>0</th>\n",
       "      <td>47.017754</td>\n",
       "      <td>12.073983</td>\n",
       "      <td>0.660444</td>\n",
       "      <td>0.847001</td>\n",
       "      <td>5.891952</td>\n",
       "      <td>-0.282268</td>\n",
       "      <td>0.521248</td>\n",
       "      <td>train set</td>\n",
       "    </tr>\n",
       "    <tr>\n",
       "      <th>1</th>\n",
       "      <td>38.448486</td>\n",
       "      <td>13.102054</td>\n",
       "      <td>0.723427</td>\n",
       "      <td>0.725459</td>\n",
       "      <td>5.768493</td>\n",
       "      <td>-0.326757</td>\n",
       "      <td>0.551398</td>\n",
       "      <td>test set</td>\n",
       "    </tr>\n",
       "    <tr>\n",
       "      <th>2</th>\n",
       "      <td>30.874488</td>\n",
       "      <td>10.108543</td>\n",
       "      <td>0.555446</td>\n",
       "      <td>0.822969</td>\n",
       "      <td>5.260116</td>\n",
       "      <td>-0.212463</td>\n",
       "      <td>0.458684</td>\n",
       "      <td>test set target</td>\n",
       "    </tr>\n",
       "  </tbody>\n",
       "</table>\n",
       "</div>"
      ],
      "text/plain": [
       "        rmse        mae      mape        r2      bias  pct_bias     smape  \\\n",
       "0  47.017754  12.073983  0.660444  0.847001  5.891952 -0.282268  0.521248   \n",
       "1  38.448486  13.102054  0.723427  0.725459  5.768493 -0.326757  0.551398   \n",
       "2  30.874488  10.108543  0.555446  0.822969  5.260116 -0.212463  0.458684   \n",
       "\n",
       "            source  \n",
       "0        train set  \n",
       "1         test set  \n",
       "2  test set target  "
      ]
     },
     "execution_count": 32,
     "metadata": {},
     "output_type": "execute_result"
    }
   ],
   "source": [
    "init_param = {\n",
    " 'alpha': 0.01,\n",
    " 'lambda': 1,\n",
    " 'eta': 0.3,    # learning_rate\n",
    " 'n_estimators': 50, # num rounds\n",
    " 'max_depth': 5,\n",
    " 'objective':'reg:squarederror',\n",
    " \"booster\": \"gbtree\",\n",
    "}\n",
    "\n",
    "xgb_reg = xgb.XGBRegressor(**init_param)\n",
    "xgb_reg.fit(x,y)\n",
    "train_pred = xgb_reg.predict(x)\n",
    "\n",
    "\n",
    "model = xgb.XGBRegressor(**init_param)\n",
    "\n",
    "st_cv = SpaceTimeSplits(n_splits=CV_FOLDS)\n",
    "custom_splitter = st_cv.split(\n",
    "    x,\n",
    "    y,\n",
    "    groups=groups\n",
    ")\n",
    "# and then conduct the cross validation with the same folds as before\n",
    "scoring = {\n",
    "    'rmse':rmse_scorer,\n",
    "    'mae':mae_scorer,\n",
    "    'r2':r2_scorer,\n",
    "    'mape':mape_scorer,\n",
    "\n",
    "}\n",
    "multi_score = cross_validate(xgb_reg, x, y, cv=custom_splitter, scoring=scoring, n_jobs=-1)\n",
    "print(f\"multi_score: {multi_score}\")\n",
    "\n",
    "if IS_PRED_EXP:\n",
    "    train_metrics = get_metrics(y, train_pred)\n",
    "else:\n",
    "    train_metrics = get_metrics(np.exp(y), np.exp(train_pred))\n",
    "\n",
    "test_pred = xgb_reg.predict(x_test)\n",
    "if TO_NORM_LABELS:\n",
    "    # reverse normalization\n",
    "    test_pred = (test_pred*label_sigma) + label_mu\n",
    "if IS_PRED_EXP:\n",
    "    test_metrics = get_metrics(y_test, test_pred)\n",
    "else:\n",
    "    test_metrics = get_metrics(y_test,  np.round(np.exp(test_pred),2))\n",
    "\n",
    "# Display metrics\n",
    "train_metrics[\"source\"] = \"train set\"\n",
    "test_metrics[\"source\"] = \"test set\"\n",
    "target_metrics[\"source\"] = \"test set target\"\n",
    "ds = [train_metrics, test_metrics, target_metrics]\n",
    "pd.DataFrame(ds)"
   ]
  },
  {
   "cell_type": "markdown",
   "metadata": {},
   "source": [
    "## Plot predictions vs actual TSS values"
   ]
  },
  {
   "cell_type": "code",
   "execution_count": 15,
   "metadata": {},
   "outputs": [
    {
     "data": {
      "text/plain": [
       "(0.4964147785050765, 4351.200031765194)"
      ]
     },
     "execution_count": 15,
     "metadata": {},
     "output_type": "execute_result"
    },
    {
     "data": {
      "image/png": "[encoded data removed]",
      "text/plain": [
       "<Figure size 640x480 with 1 Axes>"
      ]
     },
     "metadata": {},
     "output_type": "display_data"
    }
   ],
   "source": [
    "ax = plt.gca()\n",
    "plt.scatter(y_test, np.exp(test_pred), s=5)\n",
    "# plt.xlim(0,3000)\n",
    "plt.ylabel(\"Predicted TSS (mg/L)\")\n",
    "plt.xlabel(\"Actual TSS (mg/L)\")\n",
    "plt.title(\"Predictions of Python Model vs Actual TSS values\")\n",
    "ax.set_xscale(\"log\")\n",
    "ax.set_yscale(\"log\")\n",
    "\n",
    "lims = [\n",
    "    np.min([ax.get_xlim(), ax.get_ylim()]),  # min of both axes\n",
    "    np.max([ax.get_xlim(), ax.get_ylim()]),  # max of both axes\n",
    "]\n",
    "\n",
    "# now plot both limits against eachother\n",
    "ax.plot(lims, lims, 'k-', alpha=0.75, zorder=0)\n",
    "ax.set_aspect('equal')\n",
    "ax.set_xlim(lims)\n",
    "ax.set_ylim(lims)"
   ]
  },
  {
   "cell_type": "code",
   "execution_count": 16,
   "metadata": {},
   "outputs": [
    {
     "data": {
      "text/plain": [
       "(0.4964147785050765, 4351.200031765194)"
      ]
     },
     "execution_count": 16,
     "metadata": {},
     "output_type": "execute_result"
    },
    {
     "data": {
      "image/png": "[encoded data removed]",
      "text/plain": [
       "<Figure size 640x480 with 1 Axes>"
      ]
     },
     "metadata": {},
     "output_type": "display_data"
    }
   ],
   "source": [
    "r_tss_vals = val_data[\"Predicted\"].values\n",
    "ax = plt.gca()\n",
    "plt.scatter(y_test, r_tss_vals, s=5)\n",
    "# plt.xlim(0,3000)\n",
    "plt.ylabel(\"Predicted TSS (mg/L)\")\n",
    "plt.xlabel(\"Actual TSS (mg/L)\")\n",
    "plt.title(\"Predictions of R Model vs Actual TSS values\")\n",
    "ax.set_xscale(\"log\")\n",
    "ax.set_yscale(\"log\")\n",
    "\n",
    "lims = [\n",
    "    np.min([ax.get_xlim(), ax.get_ylim()]),  # min of both axes\n",
    "    np.max([ax.get_xlim(), ax.get_ylim()]),  # max of both axes\n",
    "]\n",
    "\n",
    "# now plot both limits against eachother\n",
    "ax.plot(lims, lims, 'k-', alpha=0.75, zorder=0)\n",
    "ax.set_aspect('equal')\n",
    "ax.set_xlim(lims)\n",
    "ax.set_ylim(lims)"
   ]
  },
  {
   "cell_type": "code",
   "execution_count": 33,
   "metadata": {},
   "outputs": [
    {
     "data": {
      "text/plain": [
       "(0.6044898962962955, 2642.3591441039603)"
      ]
     },
     "execution_count": 33,
     "metadata": {},
     "output_type": "execute_result"
    },
    {
     "data": {
      "image/png": "[encoded data removed]",
      "text/plain": [
       "<Figure size 500x500 with 1 Axes>"
      ]
     },
     "metadata": {},
     "output_type": "display_data"
    }
   ],
   "source": [
    "r_tss_vals = val_data[\"Predicted\"].values\n",
    "ax = plt.gca()\n",
    "plt.scatter(np.exp(test_pred), r_tss_vals, s=5)\n",
    "# plt.xlim(0,3000)\n",
    "plt.ylabel(\"R Predicted TSS (mg/L)\")\n",
    "plt.xlabel(\"Python Predicted TSS (mg/L)\")\n",
    "plt.title(\"Predictions of R Model vs Python Model TSS values\")\n",
    "ax.set_xscale(\"log\")\n",
    "ax.set_yscale(\"log\")\n",
    "\n",
    "lims = [\n",
    "    np.min([ax.get_xlim(), ax.get_ylim()]),  # min of both axes\n",
    "    np.max([ax.get_xlim(), ax.get_ylim()]),  # max of both axes\n",
    "]\n",
    "\n",
    "# now plot both limits against eachother\n",
    "ax.plot(lims, lims, 'k-', alpha=0.75, zorder=0)\n",
    "ax.set_aspect('equal')\n",
    "ax.set_xlim(lims)\n",
    "ax.set_ylim(lims)"
   ]
  },
  {
   "cell_type": "markdown",
   "metadata": {},
   "source": [
    "# [WIP] Trying out other models"
   ]
  },
  {
   "cell_type": "markdown",
   "metadata": {},
   "source": [
    "## Grid Search Hyperparams of XGB"
   ]
  },
  {
   "cell_type": "code",
   "execution_count": 17,
   "metadata": {},
   "outputs": [
    {
     "name": "stdout",
     "output_type": "stream",
     "text": [
      "Fitting 3 folds for each of 48 candidates, totalling 144 fits\n"
     ]
    },
    {
     "data": {
      "text/html": [
       "<style>#sk-container-id-1 {color: black;background-color: white;}#sk-container-id-1 pre{padding: 0;}#sk-container-id-1 div.sk-toggleable {background-color: white;}#sk-container-id-1 label.sk-toggleable__label {cursor: pointer;display: block;width: 100%;margin-bottom: 0;padding: 0.3em;box-sizing: border-box;text-align: center;}#sk-container-id-1 label.sk-toggleable__label-arrow:before {content: \"▸\";float: left;margin-right: 0.25em;color: #696969;}#sk-container-id-1 label.sk-toggleable__label-arrow:hover:before {color: black;}#sk-container-id-1 div.sk-estimator:hover label.sk-toggleable__label-arrow:before {color: black;}#sk-container-id-1 div.sk-toggleable__content {max-height: 0;max-width: 0;overflow: hidden;text-align: left;background-color: #f0f8ff;}#sk-container-id-1 div.sk-toggleable__content pre {margin: 0.2em;color: black;border-radius: 0.25em;background-color: #f0f8ff;}#sk-container-id-1 input.sk-toggleable__control:checked~div.sk-toggleable__content {max-height: 200px;max-width: 100%;overflow: auto;}#sk-container-id-1 input.sk-toggleable__control:checked~label.sk-toggleable__label-arrow:before {content: \"▾\";}#sk-container-id-1 div.sk-estimator input.sk-toggleable__control:checked~label.sk-toggleable__label {background-color: #d4ebff;}#sk-container-id-1 div.sk-label input.sk-toggleable__control:checked~label.sk-toggleable__label {background-color: #d4ebff;}#sk-container-id-1 input.sk-hidden--visually {border: 0;clip: rect(1px 1px 1px 1px);clip: rect(1px, 1px, 1px, 1px);height: 1px;margin: -1px;overflow: hidden;padding: 0;position: absolute;width: 1px;}#sk-container-id-1 div.sk-estimator {font-family: monospace;background-color: #f0f8ff;border: 1px dotted black;border-radius: 0.25em;box-sizing: border-box;margin-bottom: 0.5em;}#sk-container-id-1 div.sk-estimator:hover {background-color: #d4ebff;}#sk-container-id-1 div.sk-parallel-item::after {content: \"\";width: 100%;border-bottom: 1px solid gray;flex-grow: 1;}#sk-container-id-1 div.sk-label:hover label.sk-toggleable__label {background-color: #d4ebff;}#sk-container-id-1 div.sk-serial::before {content: \"\";position: absolute;border-left: 1px solid gray;box-sizing: border-box;top: 0;bottom: 0;left: 50%;z-index: 0;}#sk-container-id-1 div.sk-serial {display: flex;flex-direction: column;align-items: center;background-color: white;padding-right: 0.2em;padding-left: 0.2em;position: relative;}#sk-container-id-1 div.sk-item {position: relative;z-index: 1;}#sk-container-id-1 div.sk-parallel {display: flex;align-items: stretch;justify-content: center;background-color: white;position: relative;}#sk-container-id-1 div.sk-item::before, #sk-container-id-1 div.sk-parallel-item::before {content: \"\";position: absolute;border-left: 1px solid gray;box-sizing: border-box;top: 0;bottom: 0;left: 50%;z-index: -1;}#sk-container-id-1 div.sk-parallel-item {display: flex;flex-direction: column;z-index: 1;position: relative;background-color: white;}#sk-container-id-1 div.sk-parallel-item:first-child::after {align-self: flex-end;width: 50%;}#sk-container-id-1 div.sk-parallel-item:last-child::after {align-self: flex-start;width: 50%;}#sk-container-id-1 div.sk-parallel-item:only-child::after {width: 0;}#sk-container-id-1 div.sk-dashed-wrapped {border: 1px dashed gray;margin: 0 0.4em 0.5em 0.4em;box-sizing: border-box;padding-bottom: 0.4em;background-color: white;}#sk-container-id-1 div.sk-label label {font-family: monospace;font-weight: bold;display: inline-block;line-height: 1.2em;}#sk-container-id-1 div.sk-label-container {text-align: center;}#sk-container-id-1 div.sk-container {/* jupyter's `normalize.less` sets `[hidden] { display: none; }` but bootstrap.min.css set `[hidden] { display: none !important; }` so we also need the `!important` here to be able to override the default hidden behavior on the sphinx rendered scikit-learn.org. See: https://github.com/scikit-learn/scikit-learn/issues/21755 */display: inline-block !important;position: relative;}#sk-container-id-1 div.sk-text-repr-fallback {display: none;}</style><div id=\"sk-container-id-1\" class=\"sk-top-container\"><div class=\"sk-text-repr-fallback\"><pre>GridSearchCV(cv=&lt;generator object SpaceTimeSplits.split at 0x141321dd0&gt;,\n",
       "             estimator=XGBRegressor(alpha=0.01, base_score=None,\n",
       "                                    booster=&#x27;gbtree&#x27;, callbacks=None,\n",
       "                                    colsample_bylevel=None,\n",
       "                                    colsample_bynode=None,\n",
       "                                    colsample_bytree=None,\n",
       "                                    early_stopping_rounds=None,\n",
       "                                    enable_categorical=False, eta=0.3,\n",
       "                                    eval_metric=None, gamma=None, gpu_id=None,\n",
       "                                    grow_policy=None, importance_type=...\n",
       "                                    max_cat_to_onehot=None, max_delta_step=None,\n",
       "                                    max_depth=5, max_leaves=None,\n",
       "                                    min_child_weight=None, missing=nan,\n",
       "                                    monotone_constraints=None, n_estimators=50,\n",
       "                                    n_jobs=None, num_parallel_tree=None,\n",
       "                                    predictor=None, ...),\n",
       "             n_jobs=4,\n",
       "             param_grid={&#x27;alpha&#x27;: [0, 0.01], &#x27;eta&#x27;: [0.1, 0.2],\n",
       "                         &#x27;lambda&#x27;: [0, 1], &#x27;max_depth&#x27;: [3, 4, 5],\n",
       "                         &#x27;n_estimators&#x27;: [20, 40]},\n",
       "             scoring=&#x27;neg_root_mean_squared_error&#x27;, verbose=1)</pre><b>In a Jupyter environment, please rerun this cell to show the HTML representation or trust the notebook. <br />On GitHub, the HTML representation is unable to render, please try loading this page with nbviewer.org.</b></div><div class=\"sk-container\" hidden><div class=\"sk-item sk-dashed-wrapped\"><div class=\"sk-label-container\"><div class=\"sk-label sk-toggleable\"><input class=\"sk-toggleable__control sk-hidden--visually\" id=\"sk-estimator-id-1\" type=\"checkbox\" ><label for=\"sk-estimator-id-1\" class=\"sk-toggleable__label sk-toggleable__label-arrow\">GridSearchCV</label><div class=\"sk-toggleable__content\"><pre>GridSearchCV(cv=&lt;generator object SpaceTimeSplits.split at 0x141321dd0&gt;,\n",
       "             estimator=XGBRegressor(alpha=0.01, base_score=None,\n",
       "                                    booster=&#x27;gbtree&#x27;, callbacks=None,\n",
       "                                    colsample_bylevel=None,\n",
       "                                    colsample_bynode=None,\n",
       "                                    colsample_bytree=None,\n",
       "                                    early_stopping_rounds=None,\n",
       "                                    enable_categorical=False, eta=0.3,\n",
       "                                    eval_metric=None, gamma=None, gpu_id=None,\n",
       "                                    grow_policy=None, importance_type=...\n",
       "                                    max_cat_to_onehot=None, max_delta_step=None,\n",
       "                                    max_depth=5, max_leaves=None,\n",
       "                                    min_child_weight=None, missing=nan,\n",
       "                                    monotone_constraints=None, n_estimators=50,\n",
       "                                    n_jobs=None, num_parallel_tree=None,\n",
       "                                    predictor=None, ...),\n",
       "             n_jobs=4,\n",
       "             param_grid={&#x27;alpha&#x27;: [0, 0.01], &#x27;eta&#x27;: [0.1, 0.2],\n",
       "                         &#x27;lambda&#x27;: [0, 1], &#x27;max_depth&#x27;: [3, 4, 5],\n",
       "                         &#x27;n_estimators&#x27;: [20, 40]},\n",
       "             scoring=&#x27;neg_root_mean_squared_error&#x27;, verbose=1)</pre></div></div></div><div class=\"sk-parallel\"><div class=\"sk-parallel-item\"><div class=\"sk-item\"><div class=\"sk-label-container\"><div class=\"sk-label sk-toggleable\"><input class=\"sk-toggleable__control sk-hidden--visually\" id=\"sk-estimator-id-2\" type=\"checkbox\" ><label for=\"sk-estimator-id-2\" class=\"sk-toggleable__label sk-toggleable__label-arrow\">estimator: XGBRegressor</label><div class=\"sk-toggleable__content\"><pre>XGBRegressor(alpha=0.01, base_score=None, booster=&#x27;gbtree&#x27;, callbacks=None,\n",
       "             colsample_bylevel=None, colsample_bynode=None,\n",
       "             colsample_bytree=None, early_stopping_rounds=None,\n",
       "             enable_categorical=False, eta=0.3, eval_metric=None, gamma=None,\n",
       "             gpu_id=None, grow_policy=None, importance_type=None,\n",
       "             interaction_constraints=None, lambda=1, learning_rate=None,\n",
       "             max_bin=None, max_cat_to_onehot=None, max_delta_step=None,\n",
       "             max_depth=5, max_leaves=None, min_child_weight=None, missing=nan,\n",
       "             monotone_constraints=None, n_estimators=50, n_jobs=None,\n",
       "             num_parallel_tree=None, predictor=None, ...)</pre></div></div></div><div class=\"sk-serial\"><div class=\"sk-item\"><div class=\"sk-estimator sk-toggleable\"><input class=\"sk-toggleable__control sk-hidden--visually\" id=\"sk-estimator-id-3\" type=\"checkbox\" ><label for=\"sk-estimator-id-3\" class=\"sk-toggleable__label sk-toggleable__label-arrow\">XGBRegressor</label><div class=\"sk-toggleable__content\"><pre>XGBRegressor(alpha=0.01, base_score=None, booster=&#x27;gbtree&#x27;, callbacks=None,\n",
       "             colsample_bylevel=None, colsample_bynode=None,\n",
       "             colsample_bytree=None, early_stopping_rounds=None,\n",
       "             enable_categorical=False, eta=0.3, eval_metric=None, gamma=None,\n",
       "             gpu_id=None, grow_policy=None, importance_type=None,\n",
       "             interaction_constraints=None, lambda=1, learning_rate=None,\n",
       "             max_bin=None, max_cat_to_onehot=None, max_delta_step=None,\n",
       "             max_depth=5, max_leaves=None, min_child_weight=None, missing=nan,\n",
       "             monotone_constraints=None, n_estimators=50, n_jobs=None,\n",
       "             num_parallel_tree=None, predictor=None, ...)</pre></div></div></div></div></div></div></div></div></div></div>"
      ],
      "text/plain": [
       "GridSearchCV(cv=<generator object SpaceTimeSplits.split at 0x141321dd0>,\n",
       "             estimator=XGBRegressor(alpha=0.01, base_score=None,\n",
       "                                    booster='gbtree', callbacks=None,\n",
       "                                    colsample_bylevel=None,\n",
       "                                    colsample_bynode=None,\n",
       "                                    colsample_bytree=None,\n",
       "                                    early_stopping_rounds=None,\n",
       "                                    enable_categorical=False, eta=0.3,\n",
       "                                    eval_metric=None, gamma=None, gpu_id=None,\n",
       "                                    grow_policy=None, importance_type=...\n",
       "                                    max_cat_to_onehot=None, max_delta_step=None,\n",
       "                                    max_depth=5, max_leaves=None,\n",
       "                                    min_child_weight=None, missing=nan,\n",
       "                                    monotone_constraints=None, n_estimators=50,\n",
       "                                    n_jobs=None, num_parallel_tree=None,\n",
       "                                    predictor=None, ...),\n",
       "             n_jobs=4,\n",
       "             param_grid={'alpha': [0, 0.01], 'eta': [0.1, 0.2],\n",
       "                         'lambda': [0, 1], 'max_depth': [3, 4, 5],\n",
       "                         'n_estimators': [20, 40]},\n",
       "             scoring='neg_root_mean_squared_error', verbose=1)"
      ]
     },
     "execution_count": 17,
     "metadata": {},
     "output_type": "execute_result"
    }
   ],
   "source": [
    "\n",
    "param2 = {\n",
    " 'alpha': [0,0.01],    #[0, 0.001, 0.005, 0.01, 0.05]\n",
    " 'lambda': [0,1],\n",
    " 'eta': [0.1,0.2],\n",
    " 'n_estimators': [20,40], # num rounds\n",
    " 'max_depth': [3,4,5]\n",
    "}\n",
    "st_cv = SpaceTimeSplits(n_splits=CV_FOLDS)\n",
    "custom_splitter = st_cv.split(\n",
    "    x,\n",
    "    y,\n",
    "    groups=groups)\n",
    "# param = {'max_depth':2, 'eta':1, 'objective':'reg:squarederror'}\n",
    "\n",
    "\n",
    "gsearch1 = GridSearchCV(\n",
    "    estimator = xgb.XGBRegressor(**init_param), \n",
    "    param_grid = param2,\n",
    "    # scoring='r2',\n",
    "    scoring=GRIDSEARCH_CV_SCORING, \n",
    "    n_jobs=4,\n",
    "    # iid=False,\n",
    "    cv=custom_splitter,\n",
    "    verbose=1,\n",
    ")\n",
    "gsearch1.fit(x,y, groups=groups)"
   ]
  },
  {
   "cell_type": "code",
   "execution_count": 18,
   "metadata": {},
   "outputs": [
    {
     "name": "stderr",
     "output_type": "stream",
     "text": [
      "2022-10-13 13:23:47.646 | INFO     | __main__:<cell line: 3>:3 - best_params: {'alpha': 0.01, 'eta': 0.1, 'lambda': 1, 'max_depth': 5, 'n_estimators': 40}, best_score: -0.7512170305435809\n"
     ]
    },
    {
     "data": {
      "text/html": [
       "<div>\n",
       "<style scoped>\n",
       "    .dataframe tbody tr th:only-of-type {\n",
       "        vertical-align: middle;\n",
       "    }\n",
       "\n",
       "    .dataframe tbody tr th {\n",
       "        vertical-align: top;\n",
       "    }\n",
       "\n",
       "    .dataframe thead th {\n",
       "        text-align: right;\n",
       "    }\n",
       "</style>\n",
       "<table border=\"1\" class=\"dataframe\">\n",
       "  <thead>\n",
       "    <tr style=\"text-align: right;\">\n",
       "      <th></th>\n",
       "      <th>rmse</th>\n",
       "      <th>mae</th>\n",
       "      <th>mape</th>\n",
       "      <th>r2</th>\n",
       "      <th>bias</th>\n",
       "      <th>pct_bias</th>\n",
       "      <th>smape</th>\n",
       "      <th>source</th>\n",
       "    </tr>\n",
       "  </thead>\n",
       "  <tbody>\n",
       "    <tr>\n",
       "      <th>0</th>\n",
       "      <td>49.002382</td>\n",
       "      <td>13.520952</td>\n",
       "      <td>0.705132</td>\n",
       "      <td>0.554052</td>\n",
       "      <td>7.501515</td>\n",
       "      <td>-0.289302</td>\n",
       "      <td>0.555478</td>\n",
       "      <td>test set</td>\n",
       "    </tr>\n",
       "    <tr>\n",
       "      <th>1</th>\n",
       "      <td>30.874488</td>\n",
       "      <td>10.108543</td>\n",
       "      <td>0.555446</td>\n",
       "      <td>0.822969</td>\n",
       "      <td>5.260116</td>\n",
       "      <td>-0.212463</td>\n",
       "      <td>0.458684</td>\n",
       "      <td>test set target</td>\n",
       "    </tr>\n",
       "  </tbody>\n",
       "</table>\n",
       "</div>"
      ],
      "text/plain": [
       "        rmse        mae      mape        r2      bias  pct_bias     smape  \\\n",
       "0  49.002382  13.520952  0.705132  0.554052  7.501515 -0.289302  0.555478   \n",
       "1  30.874488  10.108543  0.555446  0.822969  5.260116 -0.212463  0.458684   \n",
       "\n",
       "            source  \n",
       "0         test set  \n",
       "1  test set target  "
      ]
     },
     "execution_count": 18,
     "metadata": {},
     "output_type": "execute_result"
    }
   ],
   "source": [
    "best_params = gsearch1.best_params_\n",
    "best_score = gsearch1.best_score_\n",
    "logger.info(f\"best_params: {best_params}, best_score: {best_score}\")\n",
    "\n",
    "best_model = gsearch1.best_estimator_\n",
    "# best_model = xgb.XGBRegressor(**best_params)\n",
    "best_model.fit(x,y)\n",
    "\n",
    "# Predict on test set\n",
    "test_pred = best_model.predict(x_test)\n",
    "if TO_NORM_LABELS:\n",
    "    # reverse normalization\n",
    "    test_pred = (test_pred*label_sigma) + label_mu\n",
    "if IS_PRED_EXP:\n",
    "    test_metrics = get_metrics(y_test, test_pred)\n",
    "else:\n",
    "    test_metrics = get_metrics(y_test, np.round(np.exp(test_pred),2))\n",
    "\n",
    "# Display metrics\n",
    "test_metrics[\"source\"] = \"test set\"\n",
    "target_metrics[\"source\"] = \"test set target\"\n",
    "ds = [test_metrics, target_metrics]\n",
    "pd.DataFrame(ds)"
   ]
  },
  {
   "cell_type": "markdown",
   "metadata": {},
   "source": [
    "### Plot XGB Model and Feat Importance"
   ]
  },
  {
   "cell_type": "code",
   "execution_count": 19,
   "metadata": {},
   "outputs": [
    {
     "data": {
      "image/png": "[encoded data removed]",
      "text/plain": [
       "<Figure size 640x480 with 1 Axes>"
      ]
     },
     "metadata": {},
     "output_type": "display_data"
    }
   ],
   "source": [
    "xgb.plot_tree(best_model,num_trees=0)\n",
    "plt.rcParams['figure.figsize'] = [50, 10]\n",
    "plt.show()"
   ]
  },
  {
   "cell_type": "code",
   "execution_count": 20,
   "metadata": {},
   "outputs": [
    {
     "data": {
      "image/png": "[encoded data removed]",
      "text/plain": [
       "<Figure size 5000x1000 with 1 Axes>"
      ]
     },
     "metadata": {},
     "output_type": "display_data"
    }
   ],
   "source": [
    "xgb.plot_importance(best_model)\n",
    "plt.rcParams['figure.figsize'] = [5, 5]\n",
    "plt.show()"
   ]
  },
  {
   "cell_type": "markdown",
   "metadata": {},
   "source": [
    "## Use RandomizedSearchCV for XGB Tuning"
   ]
  },
  {
   "cell_type": "code",
   "execution_count": 21,
   "metadata": {},
   "outputs": [
    {
     "name": "stdout",
     "output_type": "stream",
     "text": [
      "Fitting 3 folds for each of 10 candidates, totalling 30 fits\n"
     ]
    },
    {
     "data": {
      "text/html": [
       "<style>#sk-container-id-2 {color: black;background-color: white;}#sk-container-id-2 pre{padding: 0;}#sk-container-id-2 div.sk-toggleable {background-color: white;}#sk-container-id-2 label.sk-toggleable__label {cursor: pointer;display: block;width: 100%;margin-bottom: 0;padding: 0.3em;box-sizing: border-box;text-align: center;}#sk-container-id-2 label.sk-toggleable__label-arrow:before {content: \"▸\";float: left;margin-right: 0.25em;color: #696969;}#sk-container-id-2 label.sk-toggleable__label-arrow:hover:before {color: black;}#sk-container-id-2 div.sk-estimator:hover label.sk-toggleable__label-arrow:before {color: black;}#sk-container-id-2 div.sk-toggleable__content {max-height: 0;max-width: 0;overflow: hidden;text-align: left;background-color: #f0f8ff;}#sk-container-id-2 div.sk-toggleable__content pre {margin: 0.2em;color: black;border-radius: 0.25em;background-color: #f0f8ff;}#sk-container-id-2 input.sk-toggleable__control:checked~div.sk-toggleable__content {max-height: 200px;max-width: 100%;overflow: auto;}#sk-container-id-2 input.sk-toggleable__control:checked~label.sk-toggleable__label-arrow:before {content: \"▾\";}#sk-container-id-2 div.sk-estimator input.sk-toggleable__control:checked~label.sk-toggleable__label {background-color: #d4ebff;}#sk-container-id-2 div.sk-label input.sk-toggleable__control:checked~label.sk-toggleable__label {background-color: #d4ebff;}#sk-container-id-2 input.sk-hidden--visually {border: 0;clip: rect(1px 1px 1px 1px);clip: rect(1px, 1px, 1px, 1px);height: 1px;margin: -1px;overflow: hidden;padding: 0;position: absolute;width: 1px;}#sk-container-id-2 div.sk-estimator {font-family: monospace;background-color: #f0f8ff;border: 1px dotted black;border-radius: 0.25em;box-sizing: border-box;margin-bottom: 0.5em;}#sk-container-id-2 div.sk-estimator:hover {background-color: #d4ebff;}#sk-container-id-2 div.sk-parallel-item::after {content: \"\";width: 100%;border-bottom: 1px solid gray;flex-grow: 1;}#sk-container-id-2 div.sk-label:hover label.sk-toggleable__label {background-color: #d4ebff;}#sk-container-id-2 div.sk-serial::before {content: \"\";position: absolute;border-left: 1px solid gray;box-sizing: border-box;top: 0;bottom: 0;left: 50%;z-index: 0;}#sk-container-id-2 div.sk-serial {display: flex;flex-direction: column;align-items: center;background-color: white;padding-right: 0.2em;padding-left: 0.2em;position: relative;}#sk-container-id-2 div.sk-item {position: relative;z-index: 1;}#sk-container-id-2 div.sk-parallel {display: flex;align-items: stretch;justify-content: center;background-color: white;position: relative;}#sk-container-id-2 div.sk-item::before, #sk-container-id-2 div.sk-parallel-item::before {content: \"\";position: absolute;border-left: 1px solid gray;box-sizing: border-box;top: 0;bottom: 0;left: 50%;z-index: -1;}#sk-container-id-2 div.sk-parallel-item {display: flex;flex-direction: column;z-index: 1;position: relative;background-color: white;}#sk-container-id-2 div.sk-parallel-item:first-child::after {align-self: flex-end;width: 50%;}#sk-container-id-2 div.sk-parallel-item:last-child::after {align-self: flex-start;width: 50%;}#sk-container-id-2 div.sk-parallel-item:only-child::after {width: 0;}#sk-container-id-2 div.sk-dashed-wrapped {border: 1px dashed gray;margin: 0 0.4em 0.5em 0.4em;box-sizing: border-box;padding-bottom: 0.4em;background-color: white;}#sk-container-id-2 div.sk-label label {font-family: monospace;font-weight: bold;display: inline-block;line-height: 1.2em;}#sk-container-id-2 div.sk-label-container {text-align: center;}#sk-container-id-2 div.sk-container {/* jupyter's `normalize.less` sets `[hidden] { display: none; }` but bootstrap.min.css set `[hidden] { display: none !important; }` so we also need the `!important` here to be able to override the default hidden behavior on the sphinx rendered scikit-learn.org. See: https://github.com/scikit-learn/scikit-learn/issues/21755 */display: inline-block !important;position: relative;}#sk-container-id-2 div.sk-text-repr-fallback {display: none;}</style><div id=\"sk-container-id-2\" class=\"sk-top-container\"><div class=\"sk-text-repr-fallback\"><pre>RandomizedSearchCV(cv=&lt;generator object SpaceTimeSplits.split at 0x14157e660&gt;,\n",
       "                   estimator=XGBRegressor(alpha=0.01, base_score=None,\n",
       "                                          booster=&#x27;gbtree&#x27;, callbacks=None,\n",
       "                                          colsample_bylevel=None,\n",
       "                                          colsample_bynode=None,\n",
       "                                          colsample_bytree=None,\n",
       "                                          early_stopping_rounds=None,\n",
       "                                          enable_categorical=False, eta=0.3,\n",
       "                                          eval_metric=None, gamma=None,\n",
       "                                          gpu_id=None, grow_policy=None,\n",
       "                                          importance...\n",
       "       2.78255940e-01, 3.12571585e-01, 3.51119173e-01, 3.94420606e-01,\n",
       "       4.43062146e-01, 4.97702356e-01, 5.59081018e-01, 6.28029144e-01,\n",
       "       7.05480231e-01, 7.92482898e-01, 8.90215085e-01, 1.00000000e+00]),\n",
       "                                        &#x27;max_depth&#x27;: &lt;scipy.stats._distn_infrastructure.rv_discrete_frozen object at 0x14163a400&gt;,\n",
       "                                        &#x27;n_estimators&#x27;: &lt;scipy.stats._distn_infrastructure.rv_discrete_frozen object at 0x14163a730&gt;},\n",
       "                   scoring=&#x27;neg_root_mean_squared_error&#x27;, verbose=1)</pre><b>In a Jupyter environment, please rerun this cell to show the HTML representation or trust the notebook. <br />On GitHub, the HTML representation is unable to render, please try loading this page with nbviewer.org.</b></div><div class=\"sk-container\" hidden><div class=\"sk-item sk-dashed-wrapped\"><div class=\"sk-label-container\"><div class=\"sk-label sk-toggleable\"><input class=\"sk-toggleable__control sk-hidden--visually\" id=\"sk-estimator-id-4\" type=\"checkbox\" ><label for=\"sk-estimator-id-4\" class=\"sk-toggleable__label sk-toggleable__label-arrow\">RandomizedSearchCV</label><div class=\"sk-toggleable__content\"><pre>RandomizedSearchCV(cv=&lt;generator object SpaceTimeSplits.split at 0x14157e660&gt;,\n",
       "                   estimator=XGBRegressor(alpha=0.01, base_score=None,\n",
       "                                          booster=&#x27;gbtree&#x27;, callbacks=None,\n",
       "                                          colsample_bylevel=None,\n",
       "                                          colsample_bynode=None,\n",
       "                                          colsample_bytree=None,\n",
       "                                          early_stopping_rounds=None,\n",
       "                                          enable_categorical=False, eta=0.3,\n",
       "                                          eval_metric=None, gamma=None,\n",
       "                                          gpu_id=None, grow_policy=None,\n",
       "                                          importance...\n",
       "       2.78255940e-01, 3.12571585e-01, 3.51119173e-01, 3.94420606e-01,\n",
       "       4.43062146e-01, 4.97702356e-01, 5.59081018e-01, 6.28029144e-01,\n",
       "       7.05480231e-01, 7.92482898e-01, 8.90215085e-01, 1.00000000e+00]),\n",
       "                                        &#x27;max_depth&#x27;: &lt;scipy.stats._distn_infrastructure.rv_discrete_frozen object at 0x14163a400&gt;,\n",
       "                                        &#x27;n_estimators&#x27;: &lt;scipy.stats._distn_infrastructure.rv_discrete_frozen object at 0x14163a730&gt;},\n",
       "                   scoring=&#x27;neg_root_mean_squared_error&#x27;, verbose=1)</pre></div></div></div><div class=\"sk-parallel\"><div class=\"sk-parallel-item\"><div class=\"sk-item\"><div class=\"sk-label-container\"><div class=\"sk-label sk-toggleable\"><input class=\"sk-toggleable__control sk-hidden--visually\" id=\"sk-estimator-id-5\" type=\"checkbox\" ><label for=\"sk-estimator-id-5\" class=\"sk-toggleable__label sk-toggleable__label-arrow\">estimator: XGBRegressor</label><div class=\"sk-toggleable__content\"><pre>XGBRegressor(alpha=0.01, base_score=None, booster=&#x27;gbtree&#x27;, callbacks=None,\n",
       "             colsample_bylevel=None, colsample_bynode=None,\n",
       "             colsample_bytree=None, early_stopping_rounds=None,\n",
       "             enable_categorical=False, eta=0.3, eval_metric=None, gamma=None,\n",
       "             gpu_id=None, grow_policy=None, importance_type=None,\n",
       "             interaction_constraints=None, lambda=1, learning_rate=None,\n",
       "             max_bin=None, max_cat_to_onehot=None, max_delta_step=None,\n",
       "             max_depth=5, max_leaves=None, min_child_weight=None, missing=nan,\n",
       "             monotone_constraints=None, n_estimators=50, n_jobs=None,\n",
       "             num_parallel_tree=None, predictor=None, ...)</pre></div></div></div><div class=\"sk-serial\"><div class=\"sk-item\"><div class=\"sk-estimator sk-toggleable\"><input class=\"sk-toggleable__control sk-hidden--visually\" id=\"sk-estimator-id-6\" type=\"checkbox\" ><label for=\"sk-estimator-id-6\" class=\"sk-toggleable__label sk-toggleable__label-arrow\">XGBRegressor</label><div class=\"sk-toggleable__content\"><pre>XGBRegressor(alpha=0.01, base_score=None, booster=&#x27;gbtree&#x27;, callbacks=None,\n",
       "             colsample_bylevel=None, colsample_bynode=None,\n",
       "             colsample_bytree=None, early_stopping_rounds=None,\n",
       "             enable_categorical=False, eta=0.3, eval_metric=None, gamma=None,\n",
       "             gpu_id=None, grow_policy=None, importance_type=None,\n",
       "             interaction_constraints=None, lambda=1, learning_rate=None,\n",
       "             max_bin=None, max_cat_to_onehot=None, max_delta_step=None,\n",
       "             max_depth=5, max_leaves=None, min_child_weight=None, missing=nan,\n",
       "             monotone_constraints=None, n_estimators=50, n_jobs=None,\n",
       "             num_parallel_tree=None, predictor=None, ...)</pre></div></div></div></div></div></div></div></div></div></div>"
      ],
      "text/plain": [
       "RandomizedSearchCV(cv=<generator object SpaceTimeSplits.split at 0x14157e660>,\n",
       "                   estimator=XGBRegressor(alpha=0.01, base_score=None,\n",
       "                                          booster='gbtree', callbacks=None,\n",
       "                                          colsample_bylevel=None,\n",
       "                                          colsample_bynode=None,\n",
       "                                          colsample_bytree=None,\n",
       "                                          early_stopping_rounds=None,\n",
       "                                          enable_categorical=False, eta=0.3,\n",
       "                                          eval_metric=None, gamma=None,\n",
       "                                          gpu_id=None, grow_policy=None,\n",
       "                                          importance...\n",
       "       2.78255940e-01, 3.12571585e-01, 3.51119173e-01, 3.94420606e-01,\n",
       "       4.43062146e-01, 4.97702356e-01, 5.59081018e-01, 6.28029144e-01,\n",
       "       7.05480231e-01, 7.92482898e-01, 8.90215085e-01, 1.00000000e+00]),\n",
       "                                        'max_depth': <scipy.stats._distn_infrastructure.rv_discrete_frozen object at 0x14163a400>,\n",
       "                                        'n_estimators': <scipy.stats._distn_infrastructure.rv_discrete_frozen object at 0x14163a730>},\n",
       "                   scoring='neg_root_mean_squared_error', verbose=1)"
      ]
     },
     "execution_count": 21,
     "metadata": {},
     "output_type": "execute_result"
    }
   ],
   "source": [
    "param_grid_rand={\n",
    "    'learning_rate': np.logspace(-5, 0, 100),\n",
    "    'max_depth':  randint(2,20),\n",
    "    'n_estimators': randint(100,2000),\n",
    "    'alpha': np.logspace(0, 3, 20),\n",
    "    'lambda': np.logspace(0, 3, 20),\n",
    "}\n",
    "st_cv = SpaceTimeSplits(n_splits=CV_FOLDS)\n",
    "custom_splitter = st_cv.split(\n",
    "    x,\n",
    "    y,\n",
    "    groups=groups)\n",
    "\n",
    "\n",
    "rsearch = RandomizedSearchCV(\n",
    "    estimator = xgb.XGBRegressor(**init_param), \n",
    "    param_distributions = param_grid_rand,\n",
    "    # scoring='r2',\n",
    "    scoring=GRIDSEARCH_CV_SCORING, \n",
    "    n_jobs=4,\n",
    "    # n_iter=50,\n",
    "    n_iter=10,\n",
    "    # iid=False,\n",
    "    cv=custom_splitter,\n",
    "    verbose=1,\n",
    ")\n",
    "rsearch.fit(x,y, groups=groups)"
   ]
  },
  {
   "cell_type": "code",
   "execution_count": 22,
   "metadata": {},
   "outputs": [
    {
     "name": "stderr",
     "output_type": "stream",
     "text": [
      "2022-10-13 13:29:10.549 | INFO     | __main__:<cell line: 3>:3 - best_params: {'alpha': 0.01, 'eta': 0.1, 'lambda': 1, 'max_depth': 5, 'n_estimators': 40}, best_score: -0.7512170305435809\n"
     ]
    },
    {
     "data": {
      "text/html": [
       "<div>\n",
       "<style scoped>\n",
       "    .dataframe tbody tr th:only-of-type {\n",
       "        vertical-align: middle;\n",
       "    }\n",
       "\n",
       "    .dataframe tbody tr th {\n",
       "        vertical-align: top;\n",
       "    }\n",
       "\n",
       "    .dataframe thead th {\n",
       "        text-align: right;\n",
       "    }\n",
       "</style>\n",
       "<table border=\"1\" class=\"dataframe\">\n",
       "  <thead>\n",
       "    <tr style=\"text-align: right;\">\n",
       "      <th></th>\n",
       "      <th>rmse</th>\n",
       "      <th>mae</th>\n",
       "      <th>mape</th>\n",
       "      <th>r2</th>\n",
       "      <th>bias</th>\n",
       "      <th>pct_bias</th>\n",
       "      <th>smape</th>\n",
       "      <th>source</th>\n",
       "    </tr>\n",
       "  </thead>\n",
       "  <tbody>\n",
       "    <tr>\n",
       "      <th>0</th>\n",
       "      <td>38.481102</td>\n",
       "      <td>12.944995</td>\n",
       "      <td>0.720644</td>\n",
       "      <td>0.724993</td>\n",
       "      <td>6.109380</td>\n",
       "      <td>-0.326229</td>\n",
       "      <td>0.550031</td>\n",
       "      <td>test set</td>\n",
       "    </tr>\n",
       "    <tr>\n",
       "      <th>1</th>\n",
       "      <td>30.874488</td>\n",
       "      <td>10.108543</td>\n",
       "      <td>0.555446</td>\n",
       "      <td>0.822969</td>\n",
       "      <td>5.260116</td>\n",
       "      <td>-0.212463</td>\n",
       "      <td>0.458684</td>\n",
       "      <td>test set target</td>\n",
       "    </tr>\n",
       "  </tbody>\n",
       "</table>\n",
       "</div>"
      ],
      "text/plain": [
       "        rmse        mae      mape        r2      bias  pct_bias     smape  \\\n",
       "0  38.481102  12.944995  0.720644  0.724993  6.109380 -0.326229  0.550031   \n",
       "1  30.874488  10.108543  0.555446  0.822969  5.260116 -0.212463  0.458684   \n",
       "\n",
       "            source  \n",
       "0         test set  \n",
       "1  test set target  "
      ]
     },
     "execution_count": 22,
     "metadata": {},
     "output_type": "execute_result"
    }
   ],
   "source": [
    "rbest_params = rsearch.best_params_\n",
    "rbest_score = rsearch.best_score_\n",
    "logger.info(f\"best_params: {best_params}, best_score: {best_score}\")\n",
    "\n",
    "rbest_model = rsearch.best_estimator_\n",
    "# best_model = xgb.XGBRegressor(**best_params)\n",
    "rbest_model.fit(x,y)\n",
    "\n",
    "# Predict on test set\n",
    "test_pred = rbest_model.predict(x_test)\n",
    "if TO_NORM_LABELS:\n",
    "    # reverse normalization\n",
    "    test_pred = (test_pred*label_sigma) + label_mu\n",
    "if IS_PRED_EXP:\n",
    "    test_metrics = get_metrics(y_test, test_pred)\n",
    "else:\n",
    "    test_metrics = get_metrics(y_test, np.round(np.exp(test_pred),2))\n",
    "\n",
    "# Display metrics\n",
    "test_metrics[\"source\"] = \"test set\"\n",
    "target_metrics[\"source\"] = \"test set target\"\n",
    "ds = [test_metrics, target_metrics]\n",
    "pd.DataFrame(ds)"
   ]
  },
  {
   "cell_type": "markdown",
   "metadata": {},
   "source": [
    "## Using Hyperopt for Model Searching"
   ]
  },
  {
   "cell_type": "code",
   "execution_count": 23,
   "metadata": {},
   "outputs": [],
   "source": [
    "from hyperopt import fmin, tpe, hp, anneal, Trials\n",
    "from sklearn.model_selection import KFold, cross_val_score\n",
    "# from lightgbm.sklearn import LGBMRegressor\n",
    "\n",
    "def gb_mse_cv(params, x=x, y=y, random_state=0):\n",
    "    # the function gets a set of variable parameters in \"param\"\n",
    "    params = {'n_estimators': int(params['n_estimators']), \n",
    "              'max_depth': int(params['max_depth']), \n",
    "              'eta': params['eta'],\n",
    "              'lambda': params['lambda'],\n",
    "              'alpha': params['alpha'],\n",
    "            }\n",
    "    \n",
    "    # we use this params to create a new LGBM Regressor\n",
    "    # model = LGBMRegressor(random_state=random_state, **params)\n",
    "    model = xgb.XGBRegressor(**params)\n",
    "    \n",
    "    st_cv = SpaceTimeSplits(n_splits=CV_FOLDS)\n",
    "    custom_splitter = st_cv.split(\n",
    "        x,\n",
    "        y,\n",
    "        groups=groups\n",
    "    )\n",
    "    # and then conduct the cross validation with the same folds as before\n",
    "    score = -cross_val_score(model, x, y, cv=custom_splitter, scoring=\"neg_mean_squared_error\", n_jobs=-1).mean()\n",
    "\n",
    "    return score"
   ]
  },
  {
   "cell_type": "code",
   "execution_count": 24,
   "metadata": {},
   "outputs": [
    {
     "name": "stdout",
     "output_type": "stream",
     "text": [
      "\n"
     ]
    }
   ],
   "source": [
    "n_iter = 50\n",
    "random_state=0\n",
    "# possible values of parameters\n",
    "# space={\n",
    "#     'n_estimators': hp.quniform('n_estimators', 20, 2000, 1),\n",
    "#     'max_depth' : hp.quniform('max_depth', 2, 20, 1),\n",
    "#     'learning_rate': hp.loguniform('learning_rate', -5, 0)\n",
    "# }\n",
    "\n",
    "space = {\n",
    "    'alpha': hp.loguniform('alpha', 0, 3),\n",
    "    'lambda': hp.loguniform('lambda', 0, 3),\n",
    "    'eta': hp.loguniform('eta', -5, 5),\n",
    "    'n_estimators': hp.quniform('n_estimators', 20, 2000, 1),\n",
    "    'max_depth' : hp.quniform('max_depth', 2, 20, 1),\n",
    "}\n",
    "\n",
    "# trials will contain logging information\n",
    "trials = Trials()\n",
    "\"\"\"\n",
    "best=fmin(fn=gb_mse_cv, # function to optimize\n",
    "          space=space, \n",
    "          algo=tpe.suggest, # optimization algorithm, hyperotp will select its parameters automatically\n",
    "          max_evals=n_iter, # maximum number of iterations\n",
    "          trials=trials, # logging\n",
    "        #   rstate=np.random.default_rng(0) # fixing random state for the reproducibility\n",
    ")\n",
    "\n",
    "model = xgb.XGBRegressor(**best)\n",
    "model.fit(x,y)\n",
    "test_preds = model.predict(x_test)\n",
    "if TO_NORM_LABELS:\n",
    "    # reverse normalization\n",
    "    test_pred = (test_pred*label_sigma) + label_mu\n",
    "if IS_PRED_EXP:\n",
    "    test_metrics = get_metrics(y_test, test_pred)\n",
    "    tpe_test_score=mean_squared_error(y_test, test_pred)\n",
    "else:\n",
    "    test_metrics = get_metrics(y_test, np.round(np.exp(test_pred),2))\n",
    "    tpe_test_score=mean_squared_error(y_test, np.round(np.exp(test_pred),2))\n",
    "\n",
    "print(\"Best MSE {:.3f} params {}\".format( gb_mse_cv(best), best))\n",
    "\"\"\"\n",
    "print()"
   ]
  },
  {
   "cell_type": "code",
   "execution_count": 25,
   "metadata": {},
   "outputs": [
    {
     "name": "stdout",
     "output_type": "stream",
     "text": [
      "100%|██████████| 1/1 [00:05<00:00,  5.72s/trial, best loss: 0.5824385675854972]\n",
      "100%|██████████| 2/2 [00:07<00:00,  7.46s/trial, best loss: 0.5824385675854972]\n",
      "100%|██████████| 3/3 [00:01<00:00,  1.67s/trial, best loss: 0.5824385675854972]\n",
      "100%|██████████| 4/4 [00:05<00:00,  5.47s/trial, best loss: 0.5824385675854972]\n",
      "100%|██████████| 5/5 [00:31<00:00, 31.09s/trial, best loss: 0.5824385675854972]\n",
      "100%|██████████| 6/6 [00:31<00:00, 31.45s/trial, best loss: 0.5824385675854972]\n",
      "100%|██████████| 7/7 [00:31<00:00, 31.80s/trial, best loss: 0.5824385675854972]\n",
      "100%|██████████| 8/8 [00:31<00:00, 31.34s/trial, best loss: 0.5824385675854972]\n",
      "100%|██████████| 9/9 [00:31<00:00, 31.23s/trial, best loss: 0.5824385675854972]\n",
      "100%|██████████| 10/10 [00:08<00:00,  8.54s/trial, best loss: 0.5824385675854972]\n",
      "{'learner': GradientBoostingRegressor(alpha=0.8595753728403898, criterion='squared_error',\n",
      "                          learning_rate=0.15234707837387043, loss='huber',\n",
      "                          min_samples_leaf=48, n_estimators=54, random_state=2,\n",
      "                          verbose=False), 'preprocs': (StandardScaler(with_mean=False),), 'ex_preprocs': ()}\n"
     ]
    },
    {
     "name": "stderr",
     "output_type": "stream",
     "text": [
      "/Users/rangel/miniconda3/envs/aist-ssc/lib/python3.8/site-packages/sklearn/base.py:450: UserWarning: X does not have valid feature names, but StandardScaler was fitted with feature names\n",
      "  warnings.warn(\n"
     ]
    }
   ],
   "source": [
    "# example of hyperopt-sklearn for the housing regression dataset\n",
    "from sklearn.metrics import mean_absolute_error\n",
    "from hpsklearn import HyperoptEstimator\n",
    "from hpsklearn import any_regressor\n",
    "from hpsklearn import any_preprocessing\n",
    "from hyperopt import tpe\n",
    "\n",
    "# define search\n",
    "model = HyperoptEstimator(regressor=any_regressor('reg'),\n",
    "    preprocessing=any_preprocessing('pre'),\n",
    "    loss_fn=mean_absolute_error,\n",
    "    algo=tpe.suggest,\n",
    "    max_evals=10,\n",
    "    trial_timeout=30,\n",
    ")\n",
    "# perform the search\n",
    "model.fit(x, y)\n",
    "# summarize performance\n",
    "# mae = model.score(x_test, y_test)\n",
    "test_pred = model.predict(x_test)\n",
    "if TO_NORM_LABELS:\n",
    "    # reverse normalization\n",
    "    test_pred = (test_pred*label_sigma) + label_mu\n",
    "if IS_PRED_EXP:\n",
    "    test_metrics = get_metrics(y_test, test_pred)\n",
    "else:\n",
    "    test_metrics = get_metrics(y_test, np.round(np.exp(test_pred),2))\n",
    "# print(\"MAE: %.3f\" % mae)\n",
    "# summarize the best model\n",
    "print(model.best_model())"
   ]
  },
  {
   "cell_type": "code",
   "execution_count": 26,
   "metadata": {},
   "outputs": [
    {
     "name": "stdout",
     "output_type": "stream",
     "text": [
      "{'rmse': 52.02671575362783, 'mae': 13.653675765692808, 'mape': 0.7245183365211549, 'r2': 0.4973077538735483, 'bias': 6.839828500401183, 'pct_bias': -0.3239505984633853, 'smape': 0.5552289995400348}\n"
     ]
    }
   ],
   "source": [
    "hyper_model = model.best_model()\n",
    "h_model = hyper_model[\"learner\"]\n",
    "h_model.fit(x,y)\n",
    "\n",
    "\n",
    "test_pred = h_model.predict(x_test)\n",
    "if TO_NORM_LABELS:\n",
    "    # reverse normalization\n",
    "    test_pred = (test_pred*label_sigma) + label_mu\n",
    "if IS_PRED_EXP:\n",
    "    test_metrics = get_metrics(y_test, test_pred)\n",
    "else:\n",
    "    test_metrics = get_metrics(y_test, np.round(np.exp(test_pred),2))\n",
    "# print(\"MAE: %.3f\" % mae)\n",
    "# summarize the best model\n",
    "print(test_metrics)"
   ]
  },
  {
   "cell_type": "code",
   "execution_count": 27,
   "metadata": {},
   "outputs": [
    {
     "name": "stdout",
     "output_type": "stream",
     "text": [
      "False\n",
      "test_metrics: {'rmse': 52.02671575362783, 'mae': 13.653675765692808, 'mape': 0.7245183365211549, 'r2': 0.4973077538735483, 'bias': 6.839828500401183, 'pct_bias': -0.3239505984633853, 'smape': 0.5552289995400348}\n",
      "target_metrics: {'rmse': 30.874488274822923, 'mae': 10.108542659950823, 'mape': 0.5554461311204274, 'r2': 0.8229691722882178, 'bias': 5.260115649343916, 'pct_bias': -0.2124630453389412, 'smape': 0.4586837552555118, 'source': 'test set target'}\n"
     ]
    }
   ],
   "source": [
    "print(TO_NORM_LABELS)\n",
    "print(f\"test_metrics: {test_metrics}\")\n",
    "print(f\"target_metrics: {target_metrics}\")"
   ]
  },
  {
   "cell_type": "markdown",
   "metadata": {},
   "source": [
    "## Train other types of models"
   ]
  },
  {
   "cell_type": "code",
   "execution_count": 28,
   "metadata": {},
   "outputs": [],
   "source": [
    "from sklearn.ensemble import RandomForestRegressor\n",
    "from sklearn.neural_network import MLPRegressor\n",
    "from lightgbm import LGBMRegressor\n",
    "\n",
    "from hyperopt import fmin, tpe, hp, anneal, Trials\n",
    "from sklearn.metrics import mean_absolute_error\n",
    "from hpsklearn import HyperoptEstimator\n",
    "from hpsklearn import any_regressor\n",
    "from hpsklearn import any_preprocessing\n",
    "from hyperopt import tpe"
   ]
  },
  {
   "cell_type": "code",
   "execution_count": 29,
   "metadata": {},
   "outputs": [],
   "source": [
    "init_rf_params = {\n",
    "    \"criterion\": \"squared_error\",\n",
    "    \"max_depth\": 3,\n",
    "    \"min_samples_split\": 4,\n",
    "    \"min_samples_leaf\": 1,\n",
    "}\n",
    "model_rf = RandomForestRegressor(**init_rf_params)\n",
    "\n",
    "init_lgb_params = {\n",
    "    \"boosting_type\": \"gbt\",\n",
    "    \"learning_rate\": 0.1,\n",
    "    \"n_estimators\": 100,\n",
    "    \"objective\": \"regression\",\n",
    "    \"reg_alpha\": 0.1,\n",
    "    \"reg_lambda\": 0.1,\n",
    "}\n",
    "model_lgb = LGBMRegressor(**init_lgb_params)\n",
    "\n",
    "init_mlp_params = {\n",
    "    \"activation\": \"tanh\",\n",
    "    \"solver\": \"sgd\",\n",
    "    \"alpha\": 0.0001,\n",
    "    \"learning_rate\": \"adaptive\",\n",
    "    \"max_iter\": 200,\n",
    "    \"momentum\": 0.9,    #bet 0 and 1 for sgd\n",
    "    \"early_stopping\": True,\n",
    "}\n",
    "model_mlp = MLPRegressor(**init_mlp_params)"
   ]
  },
  {
   "cell_type": "code",
   "execution_count": 30,
   "metadata": {},
   "outputs": [],
   "source": [
    "EPS=1e-16\n",
    "search_space = hp.choice('reg_type', [\n",
    "    {\n",
    "        'type': 'xgb',\n",
    "        'learning_rate': hp.loguniform('learning_rate', np.log(0.0001), np.log(1)),\n",
    "        'max_depth':  hp.quniform('max_depth', 2, 20, 1),\n",
    "        'n_estimators': hp.quniform('n_estimators', 10, 200, 10),\n",
    "        'alpha': hp.loguniform('alpha', np.log(0.0001), np.log(2.0)),\n",
    "        'lambda': hp.loguniform('lambda', np.log(0.0001), np.log(2.0)),\n",
    "    },\n",
    "    {\n",
    "        'type': 'rf',\n",
    "        'max_depth': hp.quniform('max_depth_rf', 2, 20, 1),\n",
    "        'criterion': hp.choice('criterion', [\"squared_error\", \"absolute_error\"]),\n",
    "        'min_samples_split': hp.quniform('min_samples_split', 2, 20, 1),\n",
    "        'min_samples_leaf': hp.quniform('min_samples_leaf', 1, 20, 1),\n",
    "    },\n",
    "    {\n",
    "        'type': 'lgb',\n",
    "        'boosting_type': hp.choice('boosting_type', [\"gbdt\", \"dart\",\"goss\"]),\n",
    "        'learning_rate': hp.loguniform('learning_rate_lgb', np.log(EPS), np.log(1.0)),\n",
    "        'n_estimators': hp.quniform('n_estimators_lgb', 10, 200, 10),\n",
    "        'reg_alpha': hp.loguniform('reg_alpha', np.log(0.0001), np.log(2.0)),\n",
    "        'reg_lambda': hp.loguniform('reg_lambda', np.log(0.0001), np.log(2.0)),\n",
    "        # 'solver': hp.choice('solver', ['liblinear', 'lbfgs'])\n",
    "    },\n",
    "    {\n",
    "        'type': 'mlp',\n",
    "        'alpha': hp.loguniform('alpha_mlp', np.log(0.0001), np.log(2.0)),\n",
    "        \"learning_rate\": hp.choice(\"learning_rate_mlp\",[\"constant\", \"invscaling\", \"adaptive\"]),\n",
    "        \"max_iter\": hp.quniform('max_iter', 50, 200, 10),\n",
    "        \"momentum\": hp.loguniform('momentum', np.log(0.1), np.log(0.99)),\n",
    "    },\n",
    "])"
   ]
  },
  {
   "cell_type": "code",
   "execution_count": null,
   "metadata": {},
   "outputs": [],
   "source": [
    "int_params = [\"n_estimators\", \"max_depth\", \"min_samples_split\", \"min_samples_leaf\", \"max_iter\"]\n",
    "def gb_mse_cv(params, x=x, y=y, random_state=0):\n",
    "    print(params)\n",
    "    reg_type = params[\"type\"]\n",
    "    del params[\"type\"]\n",
    "    for c in int_params:\n",
    "        if c in params:\n",
    "            params[c] = int(params[c])\n",
    "\n",
    "    if reg_type == \"xgb\":\n",
    "        model = xgb.XGBRegressor(\n",
    "            **params,\n",
    "            # objective='reg:squarederror',\n",
    "        )\n",
    "    elif reg_type == \"rf\":\n",
    "        model = RandomForestRegressor(\n",
    "            **params,\n",
    "            # criterion=\"squared_error\",\n",
    "        )\n",
    "    elif reg_type == \"lgb\":\n",
    "        model = LGBMRegressor(\n",
    "            **params,\n",
    "            # objective=\"regression\",\n",
    "        )\n",
    "    elif reg_type == \"mlp\":\n",
    "        model = MLPRegressor(\n",
    "            **params,\n",
    "            activation=\"tanh\",\n",
    "            solver=\"sgd\",\n",
    "            early_stopping=True,\n",
    "        )\n",
    "    \n",
    "    \n",
    "    st_cv = SpaceTimeSplits(n_splits=CV_FOLDS)\n",
    "    custom_splitter = st_cv.split(\n",
    "        x,\n",
    "        y,\n",
    "        groups=groups\n",
    "    )\n",
    "    # and then conduct the cross validation with the same folds as before\n",
    "    # NOTE: fmin will try to minimize the score and since we want lower MSE, we negate the -MSE to get MSE\n",
    "    # effectively, fmin will try to minimize mse\n",
    "    score = -cross_val_score(model, x.values, y, cv=custom_splitter, scoring=\"neg_mean_squared_error\", n_jobs=1, error_score='raise')\n",
    "    score = score.mean()\n",
    "\n",
    "    return score\n",
    "\n",
    "reg_model_trials = Trials()\n",
    "best_result = fmin(\n",
    "    fn=gb_mse_cv, \n",
    "    space=search_space,\n",
    "    algo=tpe.suggest,\n",
    "    max_evals=50,\n",
    "    trials=reg_model_trials,\n",
    "    \n",
    ")"
   ]
  },
  {
   "cell_type": "code",
   "execution_count": null,
   "metadata": {},
   "outputs": [
    {
     "data": {
      "text/plain": [
       "{'criterion': 0,\n",
       " 'max_depth_rf': 8.0,\n",
       " 'min_samples_leaf': 15.0,\n",
       " 'min_samples_split': 15.0,\n",
       " 'reg_type': 1}"
      ]
     },
     "execution_count": 38,
     "metadata": {},
     "output_type": "execute_result"
    }
   ],
   "source": [
    "best_result"
   ]
  },
  {
   "cell_type": "code",
   "execution_count": null,
   "metadata": {},
   "outputs": [
    {
     "name": "stderr",
     "output_type": "stream",
     "text": [
      "2022-10-13 08:34:18.302 | DEBUG    | metrics:get_metrics:28 - rmse: 49.61778209937091\n"
     ]
    },
    {
     "name": "stdout",
     "output_type": "stream",
     "text": [
      "{'rmse': 49.61778209937091, 'mae': 13.497202065101463, 'mape': 0.7302418795467275, 'r2': 0.5427812219450256, 'bias': 6.459109546152816, 'pct_bias': -0.33290064024761684, 'smape': 0.5558463430257409}\n"
     ]
    }
   ],
   "source": [
    "# all_hyper_model = best_result.best_model()\n",
    "all_h_model = RandomForestRegressor(\n",
    "            # **best_result,\n",
    "            criterion=\"squared_error\",\n",
    "            max_depth= 8,\n",
    "            min_samples_leaf= 15,\n",
    "            min_samples_split= 15,\n",
    "            #  reg_type= 1\n",
    "        )\n",
    "all_h_model.fit(x,y)\n",
    "\n",
    "\n",
    "test_pred = all_h_model.predict(x_test)\n",
    "if TO_NORM_LABELS:\n",
    "    # reverse normalization\n",
    "    test_pred = (test_pred*label_sigma) + label_mu\n",
    "if IS_PRED_EXP:\n",
    "    test_metrics = get_metrics(y_test, test_pred)\n",
    "else:\n",
    "    test_metrics = get_metrics(y_test, np.round(np.exp(test_pred),2))\n",
    "# print(\"MAE: %.3f\" % mae)\n",
    "# summarize the best model\n",
    "print(test_metrics)"
   ]
  },
  {
   "cell_type": "code",
   "execution_count": null,
   "metadata": {},
   "outputs": [
    {
     "data": {
      "text/plain": [
       "{'state': 2,\n",
       " 'tid': 27,\n",
       " 'spec': None,\n",
       " 'result': {'loss': 0.47156340926184453, 'status': 'ok'},\n",
       " 'misc': {'tid': 27,\n",
       "  'cmd': ('domain_attachment', 'FMinIter_Domain'),\n",
       "  'workdir': None,\n",
       "  'idxs': {'alpha': [],\n",
       "   'alpha_mlp': [],\n",
       "   'boosting_type': [],\n",
       "   'criterion': [27],\n",
       "   'lambda': [],\n",
       "   'learning_rate': [],\n",
       "   'learning_rate_lgb': [],\n",
       "   'learning_rate_mlp': [],\n",
       "   'max_depth': [],\n",
       "   'max_depth_rf': [27],\n",
       "   'max_iter': [],\n",
       "   'min_samples_leaf': [27],\n",
       "   'min_samples_split': [27],\n",
       "   'momentum': [],\n",
       "   'n_estimators': [],\n",
       "   'n_estimators_lgb': [],\n",
       "   'reg_alpha': [],\n",
       "   'reg_lambda': [],\n",
       "   'reg_type': [27]},\n",
       "  'vals': {'alpha': [],\n",
       "   'alpha_mlp': [],\n",
       "   'boosting_type': [],\n",
       "   'criterion': [0],\n",
       "   'lambda': [],\n",
       "   'learning_rate': [],\n",
       "   'learning_rate_lgb': [],\n",
       "   'learning_rate_mlp': [],\n",
       "   'max_depth': [],\n",
       "   'max_depth_rf': [8.0],\n",
       "   'max_iter': [],\n",
       "   'min_samples_leaf': [15.0],\n",
       "   'min_samples_split': [15.0],\n",
       "   'momentum': [],\n",
       "   'n_estimators': [],\n",
       "   'n_estimators_lgb': [],\n",
       "   'reg_alpha': [],\n",
       "   'reg_lambda': [],\n",
       "   'reg_type': [1]}},\n",
       " 'exp_key': None,\n",
       " 'owner': None,\n",
       " 'version': 0,\n",
       " 'book_time': datetime.datetime(2022, 10, 13, 4, 12, 38, 422000),\n",
       " 'refresh_time': datetime.datetime(2022, 10, 13, 4, 13, 0, 826000)}"
      ]
     },
     "execution_count": 41,
     "metadata": {},
     "output_type": "execute_result"
    }
   ],
   "source": [
    "reg_model_trials.best_trial"
   ]
  },
  {
   "cell_type": "code",
   "execution_count": null,
   "metadata": {},
   "outputs": [],
   "source": []
  }
 ],
 "metadata": {
  "kernelspec": {
   "display_name": "Python 3.8.13 ('aist-ssc')",
   "language": "python",
   "name": "python3"
  },
  "language_info": {
   "codemirror_mode": {
    "name": "ipython",
    "version": 3
   },
   "file_extension": ".py",
   "mimetype": "text/x-python",
   "name": "python",
   "nbconvert_exporter": "python",
   "pygments_lexer": "ipython3",
   "version": "3.8.13"
  },
  "orig_nbformat": 4,
  "vscode": {
   "interpreter": {
    "hash": "cdf3825bcb658ae9b0769757357dd5e06fa8899c2c921d7e9b409d95383feb1b"
   }
  }
 },
 "nbformat": 4,
 "nbformat_minor": 2
}

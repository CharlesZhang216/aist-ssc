{
 "cells": [
  {
   "cell_type": "markdown",
   "metadata": {},
   "source": [
    "This notebook is used to check the train and validation files to see if:\n",
    "1. All the columns in train is in Aquasat\n",
    "2. All the columns in validation is in Aquasat\n",
    "3. All the rows in train are not in validation\n"
   ]
  },
  {
   "cell_type": "code",
   "execution_count": 1,
   "metadata": {},
   "outputs": [],
   "source": [
    "import pandas as pd"
   ]
  },
  {
   "cell_type": "code",
   "execution_count": 2,
   "metadata": {},
   "outputs": [],
   "source": [
    "aquasat = pd.read_csv(\"../data/Aqusat_TSS_v1.csv\")\n",
    "train = pd.read_csv(\"../data/train_clean_v1.csv\")\n",
    "val = pd.read_csv(\"../data/validation_v1.csv\")"
   ]
  },
  {
   "cell_type": "code",
   "execution_count": 3,
   "metadata": {},
   "outputs": [
    {
     "data": {
      "text/plain": [
       "(32146, 477)"
      ]
     },
     "execution_count": 3,
     "metadata": {},
     "output_type": "execute_result"
    }
   ],
   "source": [
    "aquasat.shape"
   ]
  },
  {
   "cell_type": "code",
   "execution_count": 4,
   "metadata": {},
   "outputs": [
    {
     "data": {
      "text/plain": [
       "(28933, 10)"
      ]
     },
     "execution_count": 4,
     "metadata": {},
     "output_type": "execute_result"
    }
   ],
   "source": [
    "train.shape"
   ]
  },
  {
   "cell_type": "code",
   "execution_count": 31,
   "metadata": {},
   "outputs": [
    {
     "data": {
      "text/plain": [
       "(3213, 196)"
      ]
     },
     "execution_count": 31,
     "metadata": {},
     "output_type": "execute_result"
    }
   ],
   "source": [
    "val.shape"
   ]
  },
  {
   "cell_type": "code",
   "execution_count": 6,
   "metadata": {},
   "outputs": [
    {
     "data": {
      "text/plain": [
       "32146"
      ]
     },
     "execution_count": 6,
     "metadata": {},
     "output_type": "execute_result"
    }
   ],
   "source": [
    "train.shape[0] + val.shape[0]"
   ]
  },
  {
   "cell_type": "code",
   "execution_count": 7,
   "metadata": {},
   "outputs": [
    {
     "data": {
      "text/html": [
       "<div>\n",
       "<style scoped>\n",
       "    .dataframe tbody tr th:only-of-type {\n",
       "        vertical-align: middle;\n",
       "    }\n",
       "\n",
       "    .dataframe tbody tr th {\n",
       "        vertical-align: top;\n",
       "    }\n",
       "\n",
       "    .dataframe thead th {\n",
       "        text-align: right;\n",
       "    }\n",
       "</style>\n",
       "<table border=\"1\" class=\"dataframe\">\n",
       "  <thead>\n",
       "    <tr style=\"text-align: right;\">\n",
       "      <th></th>\n",
       "      <th>value</th>\n",
       "      <th>nir</th>\n",
       "      <th>R.BS</th>\n",
       "      <th>swir2</th>\n",
       "      <th>N_R</th>\n",
       "      <th>BG</th>\n",
       "      <th>swir1</th>\n",
       "      <th>RG</th>\n",
       "      <th>bright</th>\n",
       "      <th>GR</th>\n",
       "    </tr>\n",
       "  </thead>\n",
       "  <tbody>\n",
       "    <tr>\n",
       "      <th>0</th>\n",
       "      <td>0.875469</td>\n",
       "      <td>156.254144</td>\n",
       "      <td>0.304208</td>\n",
       "      <td>44.594723</td>\n",
       "      <td>92.438372</td>\n",
       "      <td>1.368073</td>\n",
       "      <td>65.754703</td>\n",
       "      <td>0.606189</td>\n",
       "      <td>0.006407</td>\n",
       "      <td>1.649651</td>\n",
       "    </tr>\n",
       "    <tr>\n",
       "      <th>1</th>\n",
       "      <td>0.587787</td>\n",
       "      <td>906.688891</td>\n",
       "      <td>0.604689</td>\n",
       "      <td>152.874505</td>\n",
       "      <td>427.263645</td>\n",
       "      <td>0.860224</td>\n",
       "      <td>280.209527</td>\n",
       "      <td>0.804495</td>\n",
       "      <td>0.026512</td>\n",
       "      <td>1.243016</td>\n",
       "    </tr>\n",
       "    <tr>\n",
       "      <th>2</th>\n",
       "      <td>0.182322</td>\n",
       "      <td>631.419989</td>\n",
       "      <td>0.545430</td>\n",
       "      <td>66.685176</td>\n",
       "      <td>389.902407</td>\n",
       "      <td>0.970926</td>\n",
       "      <td>132.911054</td>\n",
       "      <td>0.756705</td>\n",
       "      <td>0.014199</td>\n",
       "      <td>1.321520</td>\n",
       "    </tr>\n",
       "    <tr>\n",
       "      <th>3</th>\n",
       "      <td>1.648659</td>\n",
       "      <td>425.995252</td>\n",
       "      <td>0.771467</td>\n",
       "      <td>51.402675</td>\n",
       "      <td>137.830645</td>\n",
       "      <td>0.590962</td>\n",
       "      <td>99.987275</td>\n",
       "      <td>0.622556</td>\n",
       "      <td>0.020593</td>\n",
       "      <td>1.606282</td>\n",
       "    </tr>\n",
       "    <tr>\n",
       "      <th>4</th>\n",
       "      <td>-0.385662</td>\n",
       "      <td>178.151916</td>\n",
       "      <td>0.380298</td>\n",
       "      <td>28.133817</td>\n",
       "      <td>33.192153</td>\n",
       "      <td>1.113669</td>\n",
       "      <td>48.674685</td>\n",
       "      <td>0.485526</td>\n",
       "      <td>0.014792</td>\n",
       "      <td>2.059623</td>\n",
       "    </tr>\n",
       "    <tr>\n",
       "      <th>5</th>\n",
       "      <td>1.163151</td>\n",
       "      <td>208.000000</td>\n",
       "      <td>0.546358</td>\n",
       "      <td>38.000000</td>\n",
       "      <td>43.000000</td>\n",
       "      <td>0.859259</td>\n",
       "      <td>70.000000</td>\n",
       "      <td>0.611111</td>\n",
       "      <td>0.012012</td>\n",
       "      <td>1.636364</td>\n",
       "    </tr>\n",
       "    <tr>\n",
       "      <th>6</th>\n",
       "      <td>1.335001</td>\n",
       "      <td>302.989224</td>\n",
       "      <td>0.661116</td>\n",
       "      <td>129.935448</td>\n",
       "      <td>-59.709562</td>\n",
       "      <td>0.737310</td>\n",
       "      <td>191.538326</td>\n",
       "      <td>0.748918</td>\n",
       "      <td>0.021546</td>\n",
       "      <td>1.335260</td>\n",
       "    </tr>\n",
       "    <tr>\n",
       "      <th>7</th>\n",
       "      <td>0.693147</td>\n",
       "      <td>220.000000</td>\n",
       "      <td>0.462006</td>\n",
       "      <td>63.000000</td>\n",
       "      <td>68.000000</td>\n",
       "      <td>0.791809</td>\n",
       "      <td>97.000000</td>\n",
       "      <td>0.518771</td>\n",
       "      <td>0.013035</td>\n",
       "      <td>1.927632</td>\n",
       "    </tr>\n",
       "    <tr>\n",
       "      <th>8</th>\n",
       "      <td>0.955511</td>\n",
       "      <td>284.650359</td>\n",
       "      <td>0.584636</td>\n",
       "      <td>106.615240</td>\n",
       "      <td>-2.478175</td>\n",
       "      <td>0.891293</td>\n",
       "      <td>158.626644</td>\n",
       "      <td>0.769679</td>\n",
       "      <td>0.016596</td>\n",
       "      <td>1.299243</td>\n",
       "    </tr>\n",
       "    <tr>\n",
       "      <th>9</th>\n",
       "      <td>1.791759</td>\n",
       "      <td>388.000000</td>\n",
       "      <td>0.667917</td>\n",
       "      <td>144.000000</td>\n",
       "      <td>32.000000</td>\n",
       "      <td>0.837709</td>\n",
       "      <td>182.000000</td>\n",
       "      <td>0.849642</td>\n",
       "      <td>0.018641</td>\n",
       "      <td>1.176966</td>\n",
       "    </tr>\n",
       "  </tbody>\n",
       "</table>\n",
       "</div>"
      ],
      "text/plain": [
       "      value         nir      R.BS       swir2         N_R        BG  \\\n",
       "0  0.875469  156.254144  0.304208   44.594723   92.438372  1.368073   \n",
       "1  0.587787  906.688891  0.604689  152.874505  427.263645  0.860224   \n",
       "2  0.182322  631.419989  0.545430   66.685176  389.902407  0.970926   \n",
       "3  1.648659  425.995252  0.771467   51.402675  137.830645  0.590962   \n",
       "4 -0.385662  178.151916  0.380298   28.133817   33.192153  1.113669   \n",
       "5  1.163151  208.000000  0.546358   38.000000   43.000000  0.859259   \n",
       "6  1.335001  302.989224  0.661116  129.935448  -59.709562  0.737310   \n",
       "7  0.693147  220.000000  0.462006   63.000000   68.000000  0.791809   \n",
       "8  0.955511  284.650359  0.584636  106.615240   -2.478175  0.891293   \n",
       "9  1.791759  388.000000  0.667917  144.000000   32.000000  0.837709   \n",
       "\n",
       "        swir1        RG    bright        GR  \n",
       "0   65.754703  0.606189  0.006407  1.649651  \n",
       "1  280.209527  0.804495  0.026512  1.243016  \n",
       "2  132.911054  0.756705  0.014199  1.321520  \n",
       "3   99.987275  0.622556  0.020593  1.606282  \n",
       "4   48.674685  0.485526  0.014792  2.059623  \n",
       "5   70.000000  0.611111  0.012012  1.636364  \n",
       "6  191.538326  0.748918  0.021546  1.335260  \n",
       "7   97.000000  0.518771  0.013035  1.927632  \n",
       "8  158.626644  0.769679  0.016596  1.299243  \n",
       "9  182.000000  0.849642  0.018641  1.176966  "
      ]
     },
     "execution_count": 7,
     "metadata": {},
     "output_type": "execute_result"
    }
   ],
   "source": [
    "train.head(10)"
   ]
  },
  {
   "cell_type": "code",
   "execution_count": 8,
   "metadata": {},
   "outputs": [
    {
     "data": {
      "text/plain": [
       "True"
      ]
     },
     "execution_count": 8,
     "metadata": {},
     "output_type": "execute_result"
    }
   ],
   "source": [
    "aqua_cols = list(aquasat.columns)\n",
    "\"uniqueID\" in aqua_cols"
   ]
  },
  {
   "cell_type": "code",
   "execution_count": 9,
   "metadata": {},
   "outputs": [
    {
     "data": {
      "text/html": [
       "<div>\n",
       "<style scoped>\n",
       "    .dataframe tbody tr th:only-of-type {\n",
       "        vertical-align: middle;\n",
       "    }\n",
       "\n",
       "    .dataframe tbody tr th {\n",
       "        vertical-align: top;\n",
       "    }\n",
       "\n",
       "    .dataframe thead th {\n",
       "        text-align: right;\n",
       "    }\n",
       "</style>\n",
       "<table border=\"1\" class=\"dataframe\">\n",
       "  <thead>\n",
       "    <tr style=\"text-align: right;\">\n",
       "      <th></th>\n",
       "      <th>SiteID</th>\n",
       "      <th>azimuth</th>\n",
       "      <th>date_unity</th>\n",
       "      <th>dswe</th>\n",
       "      <th>dswe_sd</th>\n",
       "      <th>elevation</th>\n",
       "      <th>hillshade</th>\n",
       "      <th>hillshadow</th>\n",
       "      <th>hillshadow_sd</th>\n",
       "      <th>path</th>\n",
       "      <th>...</th>\n",
       "      <th>TOT_WB5100_ANN</th>\n",
       "      <th>uniqueID</th>\n",
       "      <th>n</th>\n",
       "      <th>lat_group</th>\n",
       "      <th>long_group</th>\n",
       "      <th>julian</th>\n",
       "      <th>space_group</th>\n",
       "      <th>time_group</th>\n",
       "      <th>mag</th>\n",
       "      <th>.partitions</th>\n",
       "    </tr>\n",
       "  </thead>\n",
       "  <tbody>\n",
       "  </tbody>\n",
       "</table>\n",
       "<p>0 rows × 477 columns</p>\n",
       "</div>"
      ],
      "text/plain": [
       "Empty DataFrame\n",
       "Columns: [SiteID, azimuth, date_unity, dswe, dswe_sd, elevation, hillshade, hillshadow, hillshadow_sd, path, pixelCount, row, sat, swir1_sd, zenith, endtime, date, date_only, area.km2, long, lat, TZID, date_utc, clouds, time, landsat_id, timediff, characteristicName, analytical_method, value, harmonized_unit, harmonized_depth, source, pwater, type, rn, red_raw, green_raw, blue_raw, nir_raw, swir1_raw, swir2_raw, red, green, blue, nir, swir1, swir2, NR, BR, GR, SR, BG, RG, NG, SG, BN, GN, RN, SN, BS, GS, RS, NS, R.GN, R.GB, R.GS, R.BN, R.BS, R.NS, G.BR, G.BN, G.BS, G.RN, G.RB, G.NS, B.RG, B.RN, B.RS, B.GN, B.GS, B.NS, N.RG, N.RB, N.RS, N.GB, N.GS, N.BS, GR2, GN2, BR_G, NS_NR, fai, N_S, N_R, ndvi, ndwi, ndssi, gn.gn, hue, ...]\n",
       "Index: []\n",
       "\n",
       "[0 rows x 477 columns]"
      ]
     },
     "execution_count": 9,
     "metadata": {},
     "output_type": "execute_result"
    }
   ],
   "source": [
    "aquasat[aquasat[\"value\"]==0.875469]"
   ]
  },
  {
   "cell_type": "markdown",
   "metadata": {},
   "source": [
    "Check if all columns in validation file is in aqusat"
   ]
  },
  {
   "cell_type": "code",
   "execution_count": 10,
   "metadata": {},
   "outputs": [
    {
     "name": "stdout",
     "output_type": "stream",
     "text": [
      "SiteID\n",
      "azimuth\n",
      "date_unity\n",
      "dswe\n",
      "dswe_sd\n",
      "elevation\n",
      "hillshade\n",
      "hillshadow\n",
      "hillshadow_sd\n",
      "path\n",
      "pixelCount\n",
      "row\n",
      "sat\n",
      "swir1_sd\n",
      "zenith\n",
      "endtime\n",
      "date\n",
      "date_only\n",
      "area.km2\n",
      "long\n",
      "lat\n",
      "TZID\n",
      "date_utc\n",
      "clouds\n",
      "time\n",
      "landsat_id\n",
      "timediff\n",
      "characteristicName\n",
      "analytical_method\n",
      "value\n",
      "harmonized_unit\n",
      "harmonized_depth\n",
      "source\n",
      "pwater\n",
      "type\n",
      "rn\n",
      "red_raw\n",
      "green_raw\n",
      "blue_raw\n",
      "nir_raw\n",
      "swir1_raw\n",
      "swir2_raw\n",
      "red\n",
      "green\n",
      "blue\n",
      "nir\n",
      "swir1\n",
      "swir2\n",
      "NR\n",
      "BR\n",
      "GR\n",
      "SR\n",
      "BG\n",
      "RG\n",
      "NG\n",
      "SG\n",
      "BN\n",
      "GN\n",
      "RN\n",
      "SN\n",
      "BS\n",
      "GS\n",
      "RS\n",
      "NS\n",
      "R.GN\n",
      "R.GB\n",
      "R.GS\n",
      "R.BN\n",
      "R.BS\n",
      "R.NS\n",
      "G.BR\n",
      "G.BN\n",
      "G.BS\n",
      "G.RN\n",
      "G.RB\n",
      "G.NS\n",
      "B.RG\n",
      "B.RN\n",
      "B.RS\n",
      "B.GN\n",
      "B.GS\n",
      "B.NS\n",
      "N.RG\n",
      "N.RB\n",
      "N.RS\n",
      "N.GB\n",
      "N.GS\n",
      "N.BS\n",
      "GR2\n",
      "GN2\n",
      "BR_G\n",
      "NS_NR\n",
      "fai\n",
      "N_S\n",
      "N_R\n",
      "ndvi\n",
      "ndwi\n",
      "ndssi\n",
      "gn.gn\n",
      "hue\n",
      "saturation\n",
      "bright\n",
      "bright_tot\n",
      "dw\n",
      "hexcolor\n",
      "parameter\n",
      "COMID\n",
      "REACH_meas\n",
      "offset\n",
      "FDATE\n",
      "RESOLUTION\n",
      "GNIS_ID\n",
      "GNIS_NAME\n",
      "LENGTHKM\n",
      "REACHCODE\n",
      "FLOWDIR\n",
      "WBAREACOMI\n",
      "FTYPE\n",
      "FCODE\n",
      "Shape_Length\n",
      "StreamLeve\n",
      "StreamOrde\n",
      "StreamCalc\n",
      "FromNode\n",
      "ToNode\n",
      "Hydroseq\n",
      "LevelPathI\n",
      "Pathlength\n",
      "TerminalPa\n",
      "ArbolateSu\n",
      "Divergence\n",
      "StartFlag\n",
      "TerminalFl\n",
      "DnLevel\n",
      "UpLevelPat\n",
      "UpHydroseq\n",
      "DnLevelPat\n",
      "DnMinorHyd\n",
      "DnDrainCou\n",
      "DnHydroseq\n",
      "FromMeas\n",
      "ToMeas\n",
      "RtnDiv\n",
      "VPUIn\n",
      "VPUOut\n",
      "AreaSqKM\n",
      "TotDASqKM\n",
      "DivDASqKM\n",
      "Tidal\n",
      "TOTMA\n",
      "WBAreaType\n",
      "PathTimeMA\n",
      "HWNodeSqKM\n",
      "MAXELEVRAW\n",
      "MINELEVRAW\n",
      "MAXELEVSMO\n",
      "MINELEVSMO\n",
      "SLOPE\n",
      "ELEVFIXED\n",
      "HWTYPE\n",
      "SLOPELENKM\n",
      "QA_MA\n",
      "VA_MA\n",
      "QC_MA\n",
      "VC_MA\n",
      "QE_MA\n",
      "VE_MA\n",
      "LakeFract\n",
      "SurfArea\n",
      "RAreaHLoad\n",
      "RPUID\n",
      "VPUID\n",
      "Enabled\n",
      "COMID_lake\n",
      "gnis_id_lake\n",
      "gnis_name_lake\n",
      "areasqkm_lake\n",
      "elevation_lake\n",
      "reachcode_lake\n",
      "ftype_lake\n",
      "fcode_lake\n",
      "FTYPE_lake\n",
      "FCODE_lake\n",
      "ONOFFNET_lake\n",
      "MeanDepth_lake\n",
      "LakeVolume_lake\n",
      "MaxDepth_lake\n",
      "LakeArea_lake\n",
      "TOT_BASIN_AREA\n",
      "TOT_BASIN_SLOPE\n",
      "TOT_ELEV_MEAN\n",
      "TOT_ELEV_MIN\n",
      "TOT_ELEV_MAX\n",
      "TOT_STREAM_SLOPE\n",
      "TOT_STREAM_LENGTH\n",
      "TOT_BUSHREED1\n",
      "TOT_BUSHREED2\n",
      "TOT_BUSHREED3\n",
      "TOT_BUSHREED4\n",
      "TOT_BUSHREED5\n",
      "TOT_BUSHREED6\n",
      "TOT_BUSHREED8\n",
      "TOT_BUSHREED9\n",
      "TOT_BUSHREED10\n",
      "ACC_ECOL3_1\n",
      "ACC_ECOL3_2\n",
      "ACC_ECOL3_3\n",
      "ACC_ECOL3_4\n",
      "ACC_ECOL3_5\n",
      "ACC_ECOL3_6\n",
      "ACC_ECOL3_7\n",
      "ACC_ECOL3_8\n",
      "ACC_ECOL3_9\n",
      "ACC_ECOL3_10\n",
      "ACC_ECOL3_11\n",
      "ACC_ECOL3_12\n",
      "ACC_ECOL3_13\n",
      "ACC_ECOL3_14\n",
      "ACC_ECOL3_15\n",
      "ACC_ECOL3_16\n",
      "ACC_ECOL3_17\n",
      "ACC_ECOL3_18\n",
      "ACC_ECOL3_19\n",
      "ACC_ECOL3_20\n",
      "ACC_ECOL3_21\n",
      "ACC_ECOL3_22\n",
      "ACC_ECOL3_23\n",
      "ACC_ECOL3_24\n",
      "ACC_ECOL3_25\n",
      "ACC_ECOL3_26\n",
      "ACC_ECOL3_27\n",
      "ACC_ECOL3_28\n",
      "ACC_ECOL3_29\n",
      "ACC_ECOL3_30\n",
      "ACC_ECOL3_31\n",
      "ACC_ECOL3_32\n",
      "ACC_ECOL3_33\n",
      "ACC_ECOL3_34\n",
      "ACC_ECOL3_35\n",
      "ACC_ECOL3_36\n",
      "ACC_ECOL3_37\n",
      "ACC_ECOL3_38\n",
      "ACC_ECOL3_39\n",
      "ACC_ECOL3_40\n",
      "ACC_ECOL3_41\n",
      "ACC_ECOL3_42\n",
      "ACC_ECOL3_43\n",
      "ACC_ECOL3_44\n",
      "ACC_ECOL3_45\n",
      "ACC_ECOL3_46\n",
      "ACC_ECOL3_47\n",
      "ACC_ECOL3_48\n",
      "ACC_ECOL3_49\n",
      "ACC_ECOL3_50\n",
      "ACC_ECOL3_51\n",
      "ACC_ECOL3_52\n",
      "ACC_ECOL3_53\n",
      "ACC_ECOL3_54\n",
      "ACC_ECOL3_55\n",
      "ACC_ECOL3_56\n",
      "ACC_ECOL3_57\n",
      "ACC_ECOL3_58\n",
      "ACC_ECOL3_59\n",
      "ACC_ECOL3_60\n",
      "ACC_ECOL3_61\n",
      "ACC_ECOL3_62\n",
      "ACC_ECOL3_63\n",
      "ACC_ECOL3_64\n",
      "ACC_ECOL3_65\n",
      "ACC_ECOL3_66\n",
      "ACC_ECOL3_67\n",
      "ACC_ECOL3_68\n",
      "ACC_ECOL3_69\n",
      "ACC_ECOL3_70\n",
      "ACC_ECOL3_71\n",
      "ACC_ECOL3_72\n",
      "ACC_ECOL3_73\n",
      "ACC_ECOL3_74\n",
      "ACC_ECOL3_75\n",
      "ACC_ECOL3_76\n",
      "ACC_ECOL3_77\n",
      "ACC_ECOL3_78\n",
      "ACC_ECOL3_79\n",
      "ACC_ECOL3_80\n",
      "ACC_ECOL3_81\n",
      "ACC_ECOL3_82\n",
      "ACC_ECOL3_83\n",
      "ACC_ECOL3_84\n",
      "ACC_ECOL3_85\n",
      "TOT_ECOL3_1\n",
      "TOT_ECOL3_2\n",
      "TOT_ECOL3_3\n",
      "TOT_ECOL3_4\n",
      "TOT_ECOL3_5\n",
      "TOT_ECOL3_6\n",
      "TOT_ECOL3_7\n",
      "TOT_ECOL3_8\n",
      "TOT_ECOL3_9\n",
      "TOT_ECOL3_10\n",
      "TOT_ECOL3_11\n",
      "TOT_ECOL3_12\n",
      "TOT_ECOL3_13\n",
      "TOT_ECOL3_14\n",
      "TOT_ECOL3_15\n",
      "TOT_ECOL3_16\n",
      "TOT_ECOL3_17\n",
      "TOT_ECOL3_18\n",
      "TOT_ECOL3_19\n",
      "TOT_ECOL3_20\n",
      "TOT_ECOL3_21\n",
      "TOT_ECOL3_22\n",
      "TOT_ECOL3_23\n",
      "TOT_ECOL3_24\n",
      "TOT_ECOL3_25\n",
      "TOT_ECOL3_26\n",
      "TOT_ECOL3_27\n",
      "TOT_ECOL3_28\n",
      "TOT_ECOL3_29\n",
      "TOT_ECOL3_30\n",
      "TOT_ECOL3_31\n",
      "TOT_ECOL3_32\n",
      "TOT_ECOL3_33\n",
      "TOT_ECOL3_34\n",
      "TOT_ECOL3_35\n",
      "TOT_ECOL3_36\n",
      "TOT_ECOL3_37\n",
      "TOT_ECOL3_38\n",
      "TOT_ECOL3_39\n",
      "TOT_ECOL3_40\n",
      "TOT_ECOL3_41\n",
      "TOT_ECOL3_42\n",
      "TOT_ECOL3_43\n",
      "TOT_ECOL3_44\n",
      "TOT_ECOL3_45\n",
      "TOT_ECOL3_46\n",
      "TOT_ECOL3_47\n",
      "TOT_ECOL3_48\n",
      "TOT_ECOL3_49\n",
      "TOT_ECOL3_50\n",
      "TOT_ECOL3_51\n",
      "TOT_ECOL3_52\n",
      "TOT_ECOL3_53\n",
      "TOT_ECOL3_54\n",
      "TOT_ECOL3_55\n",
      "TOT_ECOL3_56\n",
      "TOT_ECOL3_57\n",
      "TOT_ECOL3_58\n",
      "TOT_ECOL3_59\n",
      "TOT_ECOL3_60\n",
      "TOT_ECOL3_61\n",
      "TOT_ECOL3_62\n",
      "TOT_ECOL3_63\n",
      "TOT_ECOL3_64\n",
      "TOT_ECOL3_65\n",
      "TOT_ECOL3_66\n",
      "TOT_ECOL3_67\n",
      "TOT_ECOL3_68\n",
      "TOT_ECOL3_69\n",
      "TOT_ECOL3_70\n",
      "TOT_ECOL3_71\n",
      "TOT_ECOL3_72\n",
      "TOT_ECOL3_73\n",
      "TOT_ECOL3_74\n",
      "TOT_ECOL3_75\n",
      "TOT_ECOL3_76\n",
      "TOT_ECOL3_77\n",
      "TOT_ECOL3_78\n",
      "TOT_ECOL3_79\n",
      "TOT_ECOL3_80\n",
      "TOT_ECOL3_81\n",
      "TOT_ECOL3_82\n",
      "TOT_ECOL3_83\n",
      "TOT_ECOL3_84\n",
      "TOT_ECOL3_85\n",
      "CAT_EVI_AMJ_2012\n",
      "ACC_EVI_AMJ_2012\n",
      "TOT_EVI_AMJ_2012\n",
      "CAT_IMPV11\n",
      "ACC_IMPV11\n",
      "TOT_IMPV11\n",
      "CAT_NDAMS2013\n",
      "CAT_NID_STORAGE2013\n",
      "CAT_NORM_STORAGE2013\n",
      "CAT_MAJOR2013\n",
      "ACC_NDAMS2013\n",
      "ACC_NID_STORAGE2013\n",
      "ACC_NORM_STORAGE2013\n",
      "ACC_MAJOR2013\n",
      "TOT_NDAMS2013\n",
      "TOT_NID_STORAGE2013\n",
      "TOT_NORM_STORAGE2013\n",
      "TOT_MAJOR2013\n",
      "TOT_NLCD11_11\n",
      "TOT_NLCD11_12\n",
      "TOT_NLCD11_21\n",
      "TOT_NLCD11_22\n",
      "TOT_NLCD11_23\n",
      "TOT_NLCD11_24\n",
      "TOT_NLCD11_31\n",
      "TOT_NLCD11_41\n",
      "TOT_NLCD11_42\n",
      "TOT_NLCD11_43\n",
      "TOT_NLCD11_52\n",
      "TOT_NLCD11_71\n",
      "TOT_NLCD11_81\n",
      "TOT_NLCD11_82\n",
      "TOT_NLCD11_90\n",
      "TOT_NLCD11_95\n",
      "CAT_POPDENS10\n",
      "ACC_POPDENS10\n",
      "TOT_POPDENS10\n",
      "CAT_PPT7100_ANN\n",
      "ACC_PPT7100_ANN\n",
      "TOT_PPT7100_ANN\n",
      "CAT_RDX\n",
      "ACC_RDX\n",
      "TOT_RDX\n",
      "CAT_RF7100\n",
      "ACC_RF7100\n",
      "TOT_RF7100\n",
      "V1\n",
      "TOT_S1100\n",
      "TOT_S1200\n",
      "TOT_S1400\n",
      "TOT_S1500\n",
      "TOT_S1630\n",
      "TOT_S1640\n",
      "TOT_S1710\n",
      "TOT_S1720\n",
      "TOT_S1730\n",
      "TOT_S1740\n",
      "TOT_S1750\n",
      "TOT_S1780\n",
      "TOT_S1820\n",
      "TOT_S1830\n",
      "TOT_TOTAL_ROAD_DENS\n",
      "sinuosity\n",
      "TOT_HGA\n",
      "TOT_HGAC\n",
      "TOT_HGAD\n",
      "TOT_HGB\n",
      "TOT_HGBC\n",
      "TOT_HGBD\n",
      "TOT_HGC\n",
      "TOT_HGCD\n",
      "TOT_HGD\n",
      "TOT_HGVAR\n",
      "TOT_KFACT\n",
      "TOT_KFACT_UP\n",
      "TOT_NO10AVE\n",
      "TOT_NO200AVE\n",
      "TOT_NO4AVE\n",
      "TOT_OM\n",
      "TOT_PERMAVE\n",
      "TOT_RFACT\n",
      "TOT_ROCKDEP\n",
      "TOT_BDAVE\n",
      "TOT_AWCAVE\n",
      "TOT_WTDEP\n",
      "TOT_SILTAVE\n",
      "TOT_CLAYAVE\n",
      "TOT_SANDAVE\n",
      "CAT_TAV7100_ANN\n",
      "ACC_TAV7100_ANN\n",
      "TOT_TAV7100_ANN\n",
      "CAT_WB5100_ANN\n",
      "ACC_WB5100_ANN\n",
      "TOT_WB5100_ANN\n",
      "uniqueID\n",
      "n\n",
      "lat_group\n",
      "long_group\n",
      "julian\n",
      "space_group\n",
      "time_group\n",
      "mag\n",
      ".partitions\n"
     ]
    }
   ],
   "source": [
    "for col in aquasat.columns:\n",
    "    print(col)"
   ]
  },
  {
   "cell_type": "code",
   "execution_count": 11,
   "metadata": {},
   "outputs": [
    {
     "name": "stdout",
     "output_type": "stream",
     "text": [
      "'Predicted' not in aquasat file\n",
      "'Actual' not in aquasat file\n",
      "'residual' not in aquasat file\n",
      "'year' not in aquasat file\n",
      "'month' not in aquasat file\n",
      "'obs' not in aquasat file\n",
      "'iteration' not in aquasat file\n"
     ]
    }
   ],
   "source": [
    "for col_name in val.columns:\n",
    "    if col_name not in aquasat.columns:\n",
    "        print(f\"'{col_name}' not in aquasat file\")"
   ]
  },
  {
   "cell_type": "code",
   "execution_count": 12,
   "metadata": {},
   "outputs": [
    {
     "data": {
      "text/plain": [
       "good    3132\n",
       "bad       81\n",
       "Name: obs, dtype: int64"
      ]
     },
     "execution_count": 12,
     "metadata": {},
     "output_type": "execute_result"
    }
   ],
   "source": [
    "val[\"obs\"].value_counts()"
   ]
  },
  {
   "cell_type": "code",
   "execution_count": 13,
   "metadata": {},
   "outputs": [
    {
     "data": {
      "text/plain": [
       "array([    51,     75,    128, ..., 152169, 152247, 152260])"
      ]
     },
     "execution_count": 13,
     "metadata": {},
     "output_type": "execute_result"
    }
   ],
   "source": [
    "val[\"uniqueID\"].values"
   ]
  },
  {
   "cell_type": "code",
   "execution_count": 14,
   "metadata": {},
   "outputs": [],
   "source": [
    "for id in val[\"uniqueID\"].values:\n",
    "    if id not in aquasat[\"uniqueID\"].values:\n",
    "        print(f\"ID='{id}' not in aquasat\")"
   ]
  },
  {
   "cell_type": "code",
   "execution_count": 15,
   "metadata": {},
   "outputs": [
    {
     "name": "stdout",
     "output_type": "stream",
     "text": [
      "Unique IDs for train set: 28933\n"
     ]
    }
   ],
   "source": [
    "train_ids = []\n",
    "for id in aquasat[\"uniqueID\"].values:\n",
    "    if id not in val[\"uniqueID\"].values:\n",
    "        train_ids.append(id)\n",
    "print(f\"Unique IDs for train set: {len(train_ids)}\")"
   ]
  },
  {
   "cell_type": "code",
   "execution_count": 16,
   "metadata": {},
   "outputs": [],
   "source": [
    "for col in train.columns:\n",
    "    if col not in aquasat.columns:\n",
    "        print(f\"'{col} not found in Aquasat\")"
   ]
  },
  {
   "cell_type": "code",
   "execution_count": 22,
   "metadata": {},
   "outputs": [],
   "source": [
    "train_raw = aquasat[aquasat[\"uniqueID\"].isin(train_ids)]"
   ]
  },
  {
   "cell_type": "code",
   "execution_count": 23,
   "metadata": {},
   "outputs": [
    {
     "data": {
      "text/plain": [
       "(28933, 477)"
      ]
     },
     "execution_count": 23,
     "metadata": {},
     "output_type": "execute_result"
    }
   ],
   "source": [
    "train_raw.shape"
   ]
  },
  {
   "cell_type": "code",
   "execution_count": 24,
   "metadata": {},
   "outputs": [
    {
     "data": {
      "text/html": [
       "<div>\n",
       "<style scoped>\n",
       "    .dataframe tbody tr th:only-of-type {\n",
       "        vertical-align: middle;\n",
       "    }\n",
       "\n",
       "    .dataframe tbody tr th {\n",
       "        vertical-align: top;\n",
       "    }\n",
       "\n",
       "    .dataframe thead th {\n",
       "        text-align: right;\n",
       "    }\n",
       "</style>\n",
       "<table border=\"1\" class=\"dataframe\">\n",
       "  <thead>\n",
       "    <tr style=\"text-align: right;\">\n",
       "      <th></th>\n",
       "      <th>SiteID</th>\n",
       "      <th>azimuth</th>\n",
       "      <th>date_unity</th>\n",
       "      <th>dswe</th>\n",
       "      <th>dswe_sd</th>\n",
       "      <th>elevation</th>\n",
       "      <th>hillshade</th>\n",
       "      <th>hillshadow</th>\n",
       "      <th>hillshadow_sd</th>\n",
       "      <th>path</th>\n",
       "      <th>...</th>\n",
       "      <th>TOT_WB5100_ANN</th>\n",
       "      <th>uniqueID</th>\n",
       "      <th>n</th>\n",
       "      <th>lat_group</th>\n",
       "      <th>long_group</th>\n",
       "      <th>julian</th>\n",
       "      <th>space_group</th>\n",
       "      <th>time_group</th>\n",
       "      <th>mag</th>\n",
       "      <th>.partitions</th>\n",
       "    </tr>\n",
       "  </thead>\n",
       "  <tbody>\n",
       "    <tr>\n",
       "      <th>0</th>\n",
       "      <td>MNPCA-69-0249-00-102</td>\n",
       "      <td>136.339951</td>\n",
       "      <td>2001-06-04T21:50:00Z</td>\n",
       "      <td>1</td>\n",
       "      <td>0.268582</td>\n",
       "      <td>439.0</td>\n",
       "      <td>131.0</td>\n",
       "      <td>1.0</td>\n",
       "      <td>0.0</td>\n",
       "      <td>26</td>\n",
       "      <td>...</td>\n",
       "      <td>201.89</td>\n",
       "      <td>98034</td>\n",
       "      <td>29407</td>\n",
       "      <td>[37.7,49]</td>\n",
       "      <td>[-124,-85.7)</td>\n",
       "      <td>11477</td>\n",
       "      <td>[37.7,49][-124,-85.7)</td>\n",
       "      <td>[5.22e+03,1.23e+04)</td>\n",
       "      <td>0.2</td>\n",
       "      <td>1</td>\n",
       "    </tr>\n",
       "    <tr>\n",
       "      <th>1</th>\n",
       "      <td>MNPCA-62-0002-00-207</td>\n",
       "      <td>125.660248</td>\n",
       "      <td>1992-06-02T05:01:00Z</td>\n",
       "      <td>1</td>\n",
       "      <td>0.262531</td>\n",
       "      <td>276.0</td>\n",
       "      <td>134.0</td>\n",
       "      <td>1.0</td>\n",
       "      <td>0.0</td>\n",
       "      <td>27</td>\n",
       "      <td>...</td>\n",
       "      <td>154.66</td>\n",
       "      <td>97372</td>\n",
       "      <td>1563</td>\n",
       "      <td>[37.7,49]</td>\n",
       "      <td>[-124,-85.7)</td>\n",
       "      <td>8188</td>\n",
       "      <td>[37.7,49][-124,-85.7)</td>\n",
       "      <td>[5.22e+03,1.23e+04)</td>\n",
       "      <td>0.2</td>\n",
       "      <td>1</td>\n",
       "    </tr>\n",
       "    <tr>\n",
       "      <th>2</th>\n",
       "      <td>MNPCA-S001-924</td>\n",
       "      <td>134.641235</td>\n",
       "      <td>2002-06-05T14:10:00Z</td>\n",
       "      <td>1</td>\n",
       "      <td>0.498647</td>\n",
       "      <td>383.0</td>\n",
       "      <td>135.0</td>\n",
       "      <td>1.0</td>\n",
       "      <td>0.0</td>\n",
       "      <td>28</td>\n",
       "      <td>...</td>\n",
       "      <td>166.67</td>\n",
       "      <td>100961</td>\n",
       "      <td>29407</td>\n",
       "      <td>[37.7,49]</td>\n",
       "      <td>[-124,-85.7)</td>\n",
       "      <td>11843</td>\n",
       "      <td>[37.7,49][-124,-85.7)</td>\n",
       "      <td>[5.22e+03,1.23e+04)</td>\n",
       "      <td>0.2</td>\n",
       "      <td>1</td>\n",
       "    </tr>\n",
       "    <tr>\n",
       "      <th>3</th>\n",
       "      <td>MNPCA-21-0375-00-307</td>\n",
       "      <td>134.814041</td>\n",
       "      <td>1992-08-19T17:00:00Z</td>\n",
       "      <td>1</td>\n",
       "      <td>0.000000</td>\n",
       "      <td>370.0</td>\n",
       "      <td>168.0</td>\n",
       "      <td>1.0</td>\n",
       "      <td>0.0</td>\n",
       "      <td>29</td>\n",
       "      <td>...</td>\n",
       "      <td>69.65</td>\n",
       "      <td>95206</td>\n",
       "      <td>29407</td>\n",
       "      <td>[37.7,49]</td>\n",
       "      <td>[-124,-85.7)</td>\n",
       "      <td>8266</td>\n",
       "      <td>[37.7,49][-124,-85.7)</td>\n",
       "      <td>[5.22e+03,1.23e+04)</td>\n",
       "      <td>0.2</td>\n",
       "      <td>1</td>\n",
       "    </tr>\n",
       "    <tr>\n",
       "      <th>4</th>\n",
       "      <td>MNPCA-16-0001-00-N001</td>\n",
       "      <td>148.106415</td>\n",
       "      <td>1984-09-18T14:05:00Z</td>\n",
       "      <td>1</td>\n",
       "      <td>0.152455</td>\n",
       "      <td>179.0</td>\n",
       "      <td>196.0</td>\n",
       "      <td>1.0</td>\n",
       "      <td>0.0</td>\n",
       "      <td>25</td>\n",
       "      <td>...</td>\n",
       "      <td>334.97</td>\n",
       "      <td>94741</td>\n",
       "      <td>1563</td>\n",
       "      <td>[37.7,49]</td>\n",
       "      <td>[-124,-85.7)</td>\n",
       "      <td>5374</td>\n",
       "      <td>[37.7,49][-124,-85.7)</td>\n",
       "      <td>[5.22e+03,1.23e+04)</td>\n",
       "      <td>0.2</td>\n",
       "      <td>1</td>\n",
       "    </tr>\n",
       "  </tbody>\n",
       "</table>\n",
       "<p>5 rows × 477 columns</p>\n",
       "</div>"
      ],
      "text/plain": [
       "                  SiteID     azimuth            date_unity  dswe   dswe_sd  \\\n",
       "0   MNPCA-69-0249-00-102  136.339951  2001-06-04T21:50:00Z     1  0.268582   \n",
       "1   MNPCA-62-0002-00-207  125.660248  1992-06-02T05:01:00Z     1  0.262531   \n",
       "2         MNPCA-S001-924  134.641235  2002-06-05T14:10:00Z     1  0.498647   \n",
       "3   MNPCA-21-0375-00-307  134.814041  1992-08-19T17:00:00Z     1  0.000000   \n",
       "4  MNPCA-16-0001-00-N001  148.106415  1984-09-18T14:05:00Z     1  0.152455   \n",
       "\n",
       "   elevation  hillshade  hillshadow  hillshadow_sd  path  ...  TOT_WB5100_ANN  \\\n",
       "0      439.0      131.0         1.0            0.0    26  ...          201.89   \n",
       "1      276.0      134.0         1.0            0.0    27  ...          154.66   \n",
       "2      383.0      135.0         1.0            0.0    28  ...          166.67   \n",
       "3      370.0      168.0         1.0            0.0    29  ...           69.65   \n",
       "4      179.0      196.0         1.0            0.0    25  ...          334.97   \n",
       "\n",
       "   uniqueID      n  lat_group    long_group julian            space_group  \\\n",
       "0     98034  29407  [37.7,49]  [-124,-85.7)  11477  [37.7,49][-124,-85.7)   \n",
       "1     97372   1563  [37.7,49]  [-124,-85.7)   8188  [37.7,49][-124,-85.7)   \n",
       "2    100961  29407  [37.7,49]  [-124,-85.7)  11843  [37.7,49][-124,-85.7)   \n",
       "3     95206  29407  [37.7,49]  [-124,-85.7)   8266  [37.7,49][-124,-85.7)   \n",
       "4     94741   1563  [37.7,49]  [-124,-85.7)   5374  [37.7,49][-124,-85.7)   \n",
       "\n",
       "            time_group  mag  .partitions  \n",
       "0  [5.22e+03,1.23e+04)  0.2            1  \n",
       "1  [5.22e+03,1.23e+04)  0.2            1  \n",
       "2  [5.22e+03,1.23e+04)  0.2            1  \n",
       "3  [5.22e+03,1.23e+04)  0.2            1  \n",
       "4  [5.22e+03,1.23e+04)  0.2            1  \n",
       "\n",
       "[5 rows x 477 columns]"
      ]
     },
     "execution_count": 24,
     "metadata": {},
     "output_type": "execute_result"
    }
   ],
   "source": [
    "train_raw.head()"
   ]
  },
  {
   "cell_type": "code",
   "execution_count": 25,
   "metadata": {},
   "outputs": [],
   "source": [
    "train_raw.to_csv(\"../data/train_raw.csv\")"
   ]
  },
  {
   "cell_type": "markdown",
   "metadata": {},
   "source": [
    "## Do time groups correspond to long groups?"
   ]
  },
  {
   "cell_type": "code",
   "execution_count": 28,
   "metadata": {},
   "outputs": [
    {
     "data": {
      "text/plain": [
       "[1.44e+04,1.77e+04]    9670\n",
       "[1.23e+04,1.44e+04)    9636\n",
       "[5.22e+03,1.23e+04)    9627\n",
       "Name: time_group, dtype: int64"
      ]
     },
     "execution_count": 28,
     "metadata": {},
     "output_type": "execute_result"
    }
   ],
   "source": [
    "train_raw[\"time_group\"].value_counts()"
   ]
  },
  {
   "cell_type": "code",
   "execution_count": 27,
   "metadata": {},
   "outputs": [
    {
     "data": {
      "text/plain": [
       "[-85.7,-78.1)    9649\n",
       "[-78.1,-69.6]    9644\n",
       "[-124,-85.7)     9640\n",
       "Name: long_group, dtype: int64"
      ]
     },
     "execution_count": 27,
     "metadata": {},
     "output_type": "execute_result"
    }
   ],
   "source": [
    "train_raw[\"long_group\"].value_counts()"
   ]
  },
  {
   "cell_type": "code",
   "execution_count": 67,
   "metadata": {},
   "outputs": [
    {
     "data": {
      "text/plain": [
       "[1.23e+04,1.44e+04)[-85.7,-78.1)    3789\n",
       "[5.22e+03,1.23e+04)[-124,-85.7)     3544\n",
       "[1.44e+04,1.77e+04][-124,-85.7)     3525\n",
       "[1.23e+04,1.44e+04)[-78.1,-69.6]    3276\n",
       "[1.44e+04,1.77e+04][-78.1,-69.6]    3210\n",
       "[5.22e+03,1.23e+04)[-78.1,-69.6]    3158\n",
       "[1.44e+04,1.77e+04][-85.7,-78.1)    2935\n",
       "[5.22e+03,1.23e+04)[-85.7,-78.1)    2925\n",
       "[1.23e+04,1.44e+04)[-124,-85.7)     2571\n",
       "Name: time_long_group, dtype: int64"
      ]
     },
     "execution_count": 67,
     "metadata": {},
     "output_type": "execute_result"
    }
   ],
   "source": [
    "merged = train_raw.copy()\n",
    "merged[\"time_long_group\"] = merged[\"time_group\"]+merged[\"long_group\"]\n",
    "# merged[[\"time_long_group\", \"time_group\", \"long_group\"]]\n",
    "merged[\"time_long_group\"].value_counts()"
   ]
  },
  {
   "cell_type": "markdown",
   "metadata": {},
   "source": [
    "### What is the distribution of time and space groups?"
   ]
  },
  {
   "cell_type": "code",
   "execution_count": null,
   "metadata": {},
   "outputs": [],
   "source": []
  },
  {
   "cell_type": "markdown",
   "metadata": {},
   "source": [
    "## What is the data distribution of TSS for train and test?"
   ]
  },
  {
   "cell_type": "code",
   "execution_count": 32,
   "metadata": {},
   "outputs": [
    {
     "data": {
      "image/png": "[encoded data removed]",
      "text/plain": [
       "<Figure size 640x480 with 1 Axes>"
      ]
     },
     "metadata": {},
     "output_type": "display_data"
    }
   ],
   "source": [
    "import matplotlib.pyplot as plt\n",
    "import numpy as np\n",
    "\n",
    "actual_tss_vals = val[\"Actual\"].values\n",
    "hist, bins, _ = plt.hist(actual_tss_vals, bins=8)\n",
    "plt.close()\n",
    "plt.figure\n",
    "logbins = np.logspace(np.log10(bins[0]),np.log10(bins[-1]),len(bins))\n",
    "plt.hist(actual_tss_vals, bins=logbins)\n",
    "plt.xscale('log')\n",
    "plt.title(\"Distribution of Actual TSS Values in validation.csv\")\n",
    "plt.show()"
   ]
  },
  {
   "cell_type": "code",
   "execution_count": 62,
   "metadata": {},
   "outputs": [],
   "source": [
    "tss = train_raw[\"value\"].values\n",
    "tss_new = np.exp(tss)"
   ]
  },
  {
   "cell_type": "code",
   "execution_count": 63,
   "metadata": {},
   "outputs": [
    {
     "data": {
      "image/png": "[encoded data removed]",
      "text/plain": [
       "<Figure size 640x480 with 1 Axes>"
      ]
     },
     "metadata": {},
     "output_type": "display_data"
    }
   ],
   "source": [
    "import matplotlib.pyplot as plt\n",
    "import numpy as np\n",
    "\n",
    "hist, bins, _ = plt.hist(tss_new, bins=8)\n",
    "plt.close()\n",
    "plt.figure\n",
    "logbins = np.logspace(np.log10(bins[0]),np.log10(bins[-1]),len(bins))\n",
    "plt.hist(tss_new, bins=logbins)\n",
    "plt.xscale('log')\n",
    "plt.title(\"Distribution of Actual TSS Values in train.csv\")\n",
    "plt.show()"
   ]
  },
  {
   "cell_type": "code",
   "execution_count": 46,
   "metadata": {},
   "outputs": [
    {
     "data": {
      "text/plain": [
       "9.296518068217235"
      ]
     },
     "execution_count": 46,
     "metadata": {},
     "output_type": "execute_result"
    }
   ],
   "source": [
    "np.max(tss)"
   ]
  },
  {
   "cell_type": "code",
   "execution_count": 43,
   "metadata": {},
   "outputs": [
    {
     "data": {
      "text/plain": [
       "-16.0"
      ]
     },
     "execution_count": 43,
     "metadata": {},
     "output_type": "execute_result"
    }
   ],
   "source": [
    "np.log10(1e-16)"
   ]
  },
  {
   "cell_type": "code",
   "execution_count": 48,
   "metadata": {},
   "outputs": [
    {
     "data": {
      "text/plain": [
       "9.296518068217235"
      ]
     },
     "execution_count": 48,
     "metadata": {},
     "output_type": "execute_result"
    }
   ],
   "source": [
    "np.max(aquasat[\"value\"])"
   ]
  },
  {
   "cell_type": "code",
   "execution_count": 49,
   "metadata": {},
   "outputs": [
    {
     "data": {
      "text/plain": [
       "-2.19723457738622"
      ]
     },
     "execution_count": 49,
     "metadata": {},
     "output_type": "execute_result"
    }
   ],
   "source": [
    "np.min(aquasat[\"value\"])"
   ]
  },
  {
   "cell_type": "code",
   "execution_count": 50,
   "metadata": {},
   "outputs": [
    {
     "data": {
      "text/plain": [
       "(3213, 477)"
      ]
     },
     "execution_count": 50,
     "metadata": {},
     "output_type": "execute_result"
    }
   ],
   "source": [
    "val_ids = val[\"uniqueID\"].values\n",
    "val_raw = aquasat[aquasat[\"uniqueID\"].isin(val_ids)]\n",
    "val_raw.shape"
   ]
  },
  {
   "cell_type": "code",
   "execution_count": 58,
   "metadata": {},
   "outputs": [
    {
     "data": {
      "text/html": [
       "<div>\n",
       "<style scoped>\n",
       "    .dataframe tbody tr th:only-of-type {\n",
       "        vertical-align: middle;\n",
       "    }\n",
       "\n",
       "    .dataframe tbody tr th {\n",
       "        vertical-align: top;\n",
       "    }\n",
       "\n",
       "    .dataframe thead th {\n",
       "        text-align: right;\n",
       "    }\n",
       "</style>\n",
       "<table border=\"1\" class=\"dataframe\">\n",
       "  <thead>\n",
       "    <tr style=\"text-align: right;\">\n",
       "      <th></th>\n",
       "      <th>uniqueID</th>\n",
       "      <th>value</th>\n",
       "    </tr>\n",
       "  </thead>\n",
       "  <tbody>\n",
       "    <tr>\n",
       "      <th>28933</th>\n",
       "      <td>51</td>\n",
       "      <td>0.916291</td>\n",
       "    </tr>\n",
       "    <tr>\n",
       "      <th>28934</th>\n",
       "      <td>75</td>\n",
       "      <td>2.251292</td>\n",
       "    </tr>\n",
       "    <tr>\n",
       "      <th>28935</th>\n",
       "      <td>128</td>\n",
       "      <td>2.708050</td>\n",
       "    </tr>\n",
       "    <tr>\n",
       "      <th>28936</th>\n",
       "      <td>137</td>\n",
       "      <td>3.737670</td>\n",
       "    </tr>\n",
       "    <tr>\n",
       "      <th>28937</th>\n",
       "      <td>187</td>\n",
       "      <td>3.737670</td>\n",
       "    </tr>\n",
       "  </tbody>\n",
       "</table>\n",
       "</div>"
      ],
      "text/plain": [
       "       uniqueID     value\n",
       "28933        51  0.916291\n",
       "28934        75  2.251292\n",
       "28935       128  2.708050\n",
       "28936       137  3.737670\n",
       "28937       187  3.737670"
      ]
     },
     "execution_count": 58,
     "metadata": {},
     "output_type": "execute_result"
    }
   ],
   "source": [
    "val_raw[[\"uniqueID\",\"value\"]].head()"
   ]
  },
  {
   "cell_type": "code",
   "execution_count": 64,
   "metadata": {},
   "outputs": [
    {
     "data": {
      "text/html": [
       "<div>\n",
       "<style scoped>\n",
       "    .dataframe tbody tr th:only-of-type {\n",
       "        vertical-align: middle;\n",
       "    }\n",
       "\n",
       "    .dataframe tbody tr th {\n",
       "        vertical-align: top;\n",
       "    }\n",
       "\n",
       "    .dataframe thead th {\n",
       "        text-align: right;\n",
       "    }\n",
       "</style>\n",
       "<table border=\"1\" class=\"dataframe\">\n",
       "  <thead>\n",
       "    <tr style=\"text-align: right;\">\n",
       "      <th></th>\n",
       "      <th>Actual</th>\n",
       "      <th>value</th>\n",
       "      <th>uniqueID</th>\n",
       "    </tr>\n",
       "  </thead>\n",
       "  <tbody>\n",
       "    <tr>\n",
       "      <th>0</th>\n",
       "      <td>2.5</td>\n",
       "      <td>2.5</td>\n",
       "      <td>51</td>\n",
       "    </tr>\n",
       "    <tr>\n",
       "      <th>1</th>\n",
       "      <td>9.5</td>\n",
       "      <td>9.5</td>\n",
       "      <td>75</td>\n",
       "    </tr>\n",
       "    <tr>\n",
       "      <th>2</th>\n",
       "      <td>15.0</td>\n",
       "      <td>15.0</td>\n",
       "      <td>128</td>\n",
       "    </tr>\n",
       "    <tr>\n",
       "      <th>3</th>\n",
       "      <td>42.0</td>\n",
       "      <td>42.0</td>\n",
       "      <td>137</td>\n",
       "    </tr>\n",
       "    <tr>\n",
       "      <th>4</th>\n",
       "      <td>42.0</td>\n",
       "      <td>42.0</td>\n",
       "      <td>187</td>\n",
       "    </tr>\n",
       "  </tbody>\n",
       "</table>\n",
       "</div>"
      ],
      "text/plain": [
       "   Actual  value  uniqueID\n",
       "0     2.5    2.5        51\n",
       "1     9.5    9.5        75\n",
       "2    15.0   15.0       128\n",
       "3    42.0   42.0       137\n",
       "4    42.0   42.0       187"
      ]
     },
     "execution_count": 64,
     "metadata": {},
     "output_type": "execute_result"
    }
   ],
   "source": [
    "val[val[\"uniqueID\"].isin([51,75,128,137,187])][[\"Actual\",\"value\", \"uniqueID\"]]"
   ]
  },
  {
   "cell_type": "code",
   "execution_count": 59,
   "metadata": {},
   "outputs": [
    {
     "data": {
      "text/html": [
       "<div>\n",
       "<style scoped>\n",
       "    .dataframe tbody tr th:only-of-type {\n",
       "        vertical-align: middle;\n",
       "    }\n",
       "\n",
       "    .dataframe tbody tr th {\n",
       "        vertical-align: top;\n",
       "    }\n",
       "\n",
       "    .dataframe thead th {\n",
       "        text-align: right;\n",
       "    }\n",
       "</style>\n",
       "<table border=\"1\" class=\"dataframe\">\n",
       "  <thead>\n",
       "    <tr style=\"text-align: right;\">\n",
       "      <th></th>\n",
       "      <th>Predicted</th>\n",
       "      <th>Actual</th>\n",
       "      <th>uniqueID</th>\n",
       "      <th>SiteID</th>\n",
       "      <th>azimuth</th>\n",
       "      <th>date_unity</th>\n",
       "      <th>dswe</th>\n",
       "      <th>dswe_sd</th>\n",
       "      <th>elevation</th>\n",
       "      <th>hillshade</th>\n",
       "      <th>...</th>\n",
       "      <th>ONOFFNET_lake</th>\n",
       "      <th>MeanDepth_lake</th>\n",
       "      <th>LakeVolume_lake</th>\n",
       "      <th>MaxDepth_lake</th>\n",
       "      <th>LakeArea_lake</th>\n",
       "      <th>residual</th>\n",
       "      <th>year</th>\n",
       "      <th>month</th>\n",
       "      <th>obs</th>\n",
       "      <th>iteration</th>\n",
       "    </tr>\n",
       "  </thead>\n",
       "  <tbody>\n",
       "    <tr>\n",
       "      <th>0</th>\n",
       "      <td>4.430232</td>\n",
       "      <td>2.5</td>\n",
       "      <td>51</td>\n",
       "      <td>11113300-16-MER</td>\n",
       "      <td>142.267426</td>\n",
       "      <td>2003-08-26T12:00:00Z</td>\n",
       "      <td>1</td>\n",
       "      <td>0.400000</td>\n",
       "      <td>51.0</td>\n",
       "      <td>158.0</td>\n",
       "      <td>...</td>\n",
       "      <td>NaN</td>\n",
       "      <td>NaN</td>\n",
       "      <td>NaN</td>\n",
       "      <td>NaN</td>\n",
       "      <td>NaN</td>\n",
       "      <td>-1.930232</td>\n",
       "      <td>2003</td>\n",
       "      <td>8</td>\n",
       "      <td>good</td>\n",
       "      <td>xgbLinear_alltypes_no_ssc_v1</td>\n",
       "    </tr>\n",
       "    <tr>\n",
       "      <th>1</th>\n",
       "      <td>11.234739</td>\n",
       "      <td>9.5</td>\n",
       "      <td>75</td>\n",
       "      <td>1111REG1-CRBL03</td>\n",
       "      <td>146.439163</td>\n",
       "      <td>2004-09-14T17:45:00Z</td>\n",
       "      <td>1</td>\n",
       "      <td>0.217945</td>\n",
       "      <td>-4.0</td>\n",
       "      <td>173.0</td>\n",
       "      <td>...</td>\n",
       "      <td>NaN</td>\n",
       "      <td>NaN</td>\n",
       "      <td>NaN</td>\n",
       "      <td>NaN</td>\n",
       "      <td>NaN</td>\n",
       "      <td>-1.734739</td>\n",
       "      <td>2004</td>\n",
       "      <td>9</td>\n",
       "      <td>good</td>\n",
       "      <td>xgbLinear_alltypes_no_ssc_v1</td>\n",
       "    </tr>\n",
       "    <tr>\n",
       "      <th>2</th>\n",
       "      <td>16.285701</td>\n",
       "      <td>15.0</td>\n",
       "      <td>128</td>\n",
       "      <td>1119USBR-AFE123</td>\n",
       "      <td>155.883469</td>\n",
       "      <td>2004-10-13T14:30:00Z</td>\n",
       "      <td>1</td>\n",
       "      <td>0.140000</td>\n",
       "      <td>1297.0</td>\n",
       "      <td>208.0</td>\n",
       "      <td>...</td>\n",
       "      <td>NaN</td>\n",
       "      <td>NaN</td>\n",
       "      <td>NaN</td>\n",
       "      <td>NaN</td>\n",
       "      <td>NaN</td>\n",
       "      <td>-1.285701</td>\n",
       "      <td>2004</td>\n",
       "      <td>10</td>\n",
       "      <td>good</td>\n",
       "      <td>xgbLinear_alltypes_no_ssc_v1</td>\n",
       "    </tr>\n",
       "    <tr>\n",
       "      <th>3</th>\n",
       "      <td>32.403478</td>\n",
       "      <td>42.0</td>\n",
       "      <td>137</td>\n",
       "      <td>1119USBR-ARR001</td>\n",
       "      <td>152.871735</td>\n",
       "      <td>2003-10-09T17:30:00Z</td>\n",
       "      <td>1</td>\n",
       "      <td>0.190557</td>\n",
       "      <td>974.0</td>\n",
       "      <td>204.0</td>\n",
       "      <td>...</td>\n",
       "      <td>1.0</td>\n",
       "      <td>10.537301</td>\n",
       "      <td>246147186.5</td>\n",
       "      <td>41.199124</td>\n",
       "      <td>20035209.92</td>\n",
       "      <td>9.596522</td>\n",
       "      <td>2003</td>\n",
       "      <td>10</td>\n",
       "      <td>good</td>\n",
       "      <td>xgbLinear_alltypes_no_ssc_v1</td>\n",
       "    </tr>\n",
       "    <tr>\n",
       "      <th>4</th>\n",
       "      <td>29.972677</td>\n",
       "      <td>42.0</td>\n",
       "      <td>187</td>\n",
       "      <td>1119USBR-BOI303</td>\n",
       "      <td>149.542664</td>\n",
       "      <td>2001-09-24T11:30:00Z</td>\n",
       "      <td>1</td>\n",
       "      <td>0.000000</td>\n",
       "      <td>667.0</td>\n",
       "      <td>190.0</td>\n",
       "      <td>...</td>\n",
       "      <td>NaN</td>\n",
       "      <td>NaN</td>\n",
       "      <td>NaN</td>\n",
       "      <td>NaN</td>\n",
       "      <td>NaN</td>\n",
       "      <td>12.027323</td>\n",
       "      <td>2001</td>\n",
       "      <td>9</td>\n",
       "      <td>good</td>\n",
       "      <td>xgbLinear_alltypes_no_ssc_v1</td>\n",
       "    </tr>\n",
       "  </tbody>\n",
       "</table>\n",
       "<p>5 rows × 196 columns</p>\n",
       "</div>"
      ],
      "text/plain": [
       "   Predicted  Actual  uniqueID           SiteID     azimuth  \\\n",
       "0   4.430232     2.5        51  11113300-16-MER  142.267426   \n",
       "1  11.234739     9.5        75  1111REG1-CRBL03  146.439163   \n",
       "2  16.285701    15.0       128  1119USBR-AFE123  155.883469   \n",
       "3  32.403478    42.0       137  1119USBR-ARR001  152.871735   \n",
       "4  29.972677    42.0       187  1119USBR-BOI303  149.542664   \n",
       "\n",
       "             date_unity  dswe   dswe_sd  elevation  hillshade  ...  \\\n",
       "0  2003-08-26T12:00:00Z     1  0.400000       51.0      158.0  ...   \n",
       "1  2004-09-14T17:45:00Z     1  0.217945       -4.0      173.0  ...   \n",
       "2  2004-10-13T14:30:00Z     1  0.140000     1297.0      208.0  ...   \n",
       "3  2003-10-09T17:30:00Z     1  0.190557      974.0      204.0  ...   \n",
       "4  2001-09-24T11:30:00Z     1  0.000000      667.0      190.0  ...   \n",
       "\n",
       "   ONOFFNET_lake  MeanDepth_lake  LakeVolume_lake  MaxDepth_lake  \\\n",
       "0            NaN             NaN              NaN            NaN   \n",
       "1            NaN             NaN              NaN            NaN   \n",
       "2            NaN             NaN              NaN            NaN   \n",
       "3            1.0       10.537301      246147186.5      41.199124   \n",
       "4            NaN             NaN              NaN            NaN   \n",
       "\n",
       "   LakeArea_lake   residual  year  month   obs                     iteration  \n",
       "0            NaN  -1.930232  2003      8  good  xgbLinear_alltypes_no_ssc_v1  \n",
       "1            NaN  -1.734739  2004      9  good  xgbLinear_alltypes_no_ssc_v1  \n",
       "2            NaN  -1.285701  2004     10  good  xgbLinear_alltypes_no_ssc_v1  \n",
       "3    20035209.92   9.596522  2003     10  good  xgbLinear_alltypes_no_ssc_v1  \n",
       "4            NaN  12.027323  2001      9  good  xgbLinear_alltypes_no_ssc_v1  \n",
       "\n",
       "[5 rows x 196 columns]"
      ]
     },
     "execution_count": 59,
     "metadata": {},
     "output_type": "execute_result"
    }
   ],
   "source": [
    "val[val[\"uniqueID\"].isin([51,75,128,137,187])]"
   ]
  },
  {
   "cell_type": "code",
   "execution_count": 61,
   "metadata": {},
   "outputs": [
    {
     "data": {
      "image/png": "[encoded data removed]",
      "text/plain": [
       "<Figure size 640x480 with 1 Axes>"
      ]
     },
     "metadata": {},
     "output_type": "display_data"
    }
   ],
   "source": [
    "import matplotlib.pyplot as plt\n",
    "import numpy as np\n",
    "\n",
    "actual_tss_vals = val_raw[\"value\"].values\n",
    "actual_tss_vals = np.exp(actual_tss_vals)\n",
    "hist, bins, _ = plt.hist(actual_tss_vals, bins=8)\n",
    "plt.close()\n",
    "plt.figure\n",
    "logbins = np.logspace(np.log10(bins[0]),np.log10(bins[-1]),len(bins))\n",
    "plt.hist(actual_tss_vals, bins=logbins)\n",
    "plt.xscale('log')\n",
    "plt.title(\"Distribution of Actual TSS Values in validation.csv\")\n",
    "plt.show()"
   ]
  },
  {
   "cell_type": "code",
   "execution_count": 53,
   "metadata": {},
   "outputs": [
    {
     "data": {
      "text/html": [
       "<div>\n",
       "<style scoped>\n",
       "    .dataframe tbody tr th:only-of-type {\n",
       "        vertical-align: middle;\n",
       "    }\n",
       "\n",
       "    .dataframe tbody tr th {\n",
       "        vertical-align: top;\n",
       "    }\n",
       "\n",
       "    .dataframe thead th {\n",
       "        text-align: right;\n",
       "    }\n",
       "</style>\n",
       "<table border=\"1\" class=\"dataframe\">\n",
       "  <thead>\n",
       "    <tr style=\"text-align: right;\">\n",
       "      <th></th>\n",
       "      <th>Predicted</th>\n",
       "      <th>Actual</th>\n",
       "      <th>uniqueID</th>\n",
       "      <th>SiteID</th>\n",
       "      <th>azimuth</th>\n",
       "      <th>date_unity</th>\n",
       "      <th>dswe</th>\n",
       "      <th>dswe_sd</th>\n",
       "      <th>elevation</th>\n",
       "      <th>hillshade</th>\n",
       "      <th>...</th>\n",
       "      <th>ONOFFNET_lake</th>\n",
       "      <th>MeanDepth_lake</th>\n",
       "      <th>LakeVolume_lake</th>\n",
       "      <th>MaxDepth_lake</th>\n",
       "      <th>LakeArea_lake</th>\n",
       "      <th>residual</th>\n",
       "      <th>year</th>\n",
       "      <th>month</th>\n",
       "      <th>obs</th>\n",
       "      <th>iteration</th>\n",
       "    </tr>\n",
       "  </thead>\n",
       "  <tbody>\n",
       "  </tbody>\n",
       "</table>\n",
       "<p>0 rows × 196 columns</p>\n",
       "</div>"
      ],
      "text/plain": [
       "Empty DataFrame\n",
       "Columns: [Predicted, Actual, uniqueID, SiteID, azimuth, date_unity, dswe, dswe_sd, elevation, hillshade, hillshadow, hillshadow_sd, path, pixelCount, row, sat, swir1_sd, zenith, endtime, date, date_only, area.km2, long, lat, TZID, date_utc, clouds, time, landsat_id, timediff, characteristicName, analytical_method, value, harmonized_unit, harmonized_depth, source, pwater, type, rn, red_raw, green_raw, blue_raw, nir_raw, swir1_raw, swir2_raw, red, green, blue, nir, swir1, swir2, NR, BR, GR, SR, BG, RG, NG, SG, BN, GN, RN, SN, BS, GS, RS, NS, R.GN, R.GB, R.GS, R.BN, R.BS, R.NS, G.BR, G.BN, G.BS, G.RN, G.RB, G.NS, B.RG, B.RN, B.RS, B.GN, B.GS, B.NS, N.RG, N.RB, N.RS, N.GB, N.GS, N.BS, GR2, GN2, BR_G, NS_NR, fai, N_S, N_R, ndvi, ndwi, ...]\n",
       "Index: []\n",
       "\n",
       "[0 rows x 196 columns]"
      ]
     },
     "execution_count": 53,
     "metadata": {},
     "output_type": "execute_result"
    }
   ],
   "source": [
    "val[val[\"value\"]!=val[\"Actual\"]]"
   ]
  },
  {
   "cell_type": "code",
   "execution_count": 55,
   "metadata": {},
   "outputs": [
    {
     "data": {
      "text/plain": [
       "0.75"
      ]
     },
     "execution_count": 55,
     "metadata": {},
     "output_type": "execute_result"
    }
   ],
   "source": [
    "np.min(val[\"value\"])"
   ]
  },
  {
   "cell_type": "code",
   "execution_count": null,
   "metadata": {},
   "outputs": [],
   "source": []
  }
 ],
 "metadata": {
  "kernelspec": {
   "display_name": "Python 3.8.13 ('aist-ssc')",
   "language": "python",
   "name": "python3"
  },
  "language_info": {
   "codemirror_mode": {
    "name": "ipython",
    "version": 3
   },
   "file_extension": ".py",
   "mimetype": "text/x-python",
   "name": "python",
   "nbconvert_exporter": "python",
   "pygments_lexer": "ipython3",
   "version": "3.8.13"
  },
  "orig_nbformat": 4,
  "vscode": {
   "interpreter": {
    "hash": "cdf3825bcb658ae9b0769757357dd5e06fa8899c2c921d7e9b409d95383feb1b"
   }
  }
 },
 "nbformat": 4,
 "nbformat_minor": 2
}

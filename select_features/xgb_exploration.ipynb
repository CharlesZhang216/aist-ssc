{
 "cells": [
  {
   "cell_type": "code",
   "execution_count": 50,
   "metadata": {},
   "outputs": [],
   "source": [
    "import math\n",
    "import pandas as pd\n",
    "from config_xgb import (\n",
    "    GROUP_NAMES,\n",
    "    FEATS,\n",
    "    LABEL,\n",
    "    CATEGORICAL_FEATS,\n",
    "    FEATS_TO_ENCODE,\n",
    "    DATE_FEATS,\n",
    "    TARGET_METRICS,\n",
    "    FEATS_TO_DISCARD,\n",
    ")\n",
    "import xgboost as xgb\n",
    "from sklearn.metrics import mean_squared_error, mean_absolute_error, r2_score, mean_absolute_percentage_error\n",
    "from sklearn.metrics._scorer import make_scorer\n",
    "import numpy as np\n",
    "from loguru import logger\n",
    "import matplotlib.pyplot as plt\n",
    "from scipy.stats import randint\n",
    "\n",
    "from utils import SpaceTimeSplits, preprocess_feats\n",
    "from metrics import get_metrics"
   ]
  },
  {
   "cell_type": "markdown",
   "metadata": {},
   "source": [
    "### Load model (xgb trained on 133 feats with all types included)"
   ]
  },
  {
   "cell_type": "code",
   "execution_count": 2,
   "metadata": {},
   "outputs": [],
   "source": [
    "xgb_130feats = xgb.XGBRegressor()\n",
    "xgb_130feats.load_model(\"../saved_models/xgb_optuna_133feats_incltype.txt\")"
   ]
  },
  {
   "cell_type": "markdown",
   "metadata": {},
   "source": [
    "### test data prep"
   ]
  },
  {
   "cell_type": "code",
   "execution_count": 3,
   "metadata": {},
   "outputs": [
    {
     "name": "stderr",
     "output_type": "stream",
     "text": [
      "C:\\Users\\Zhang\\AppData\\Local\\Temp\\ipykernel_36232\\1292708273.py:11: DtypeWarning: Columns (176,180,182) have mixed types. Specify dtype option on import or set low_memory=False.\n",
      "  train_data = pd.read_csv(\"D:/Research/AIST/data/train_raw.csv\")\n",
      "2022-12-03 19:29:44.384 | DEBUG    | utils:preprocess_feats:22 - Removing the ff columns: ['Unnamed: 0', 'COMID', '.partitions', 'julian', 'space_group', 'lat_group', 'long_group', 'time_group', 'mag', 'SiteID', 'endtime', 'date', 'date_utc', 'time', 'landsat_id', 'hexcolor', 'uniqueID', 'n', 'rn', 'FTYPE_lake', 'ftype_lake', '', 'HWTYPE', 'HWNodeSqKM', 'TOT_EVI_AMJ_2012', 'dswe', 'source', 'characteristicName', 'parameter', 'harmonized_unit', 'date_only', 'TZID', 'hillshadow', 'NS_NR', 'StartFlag', 'VPUIn', 'MAXELEVRAW', 'Enabled', 'TOT_ECOL3_30', 'TOT_ECOL3_31', 'TOT_S1720', 'TOT_ECOL3_34', 'ACC_ECOL3_30', 'ACC_ECOL3_31', 'ACC_ECOL3_34', 'analytical_method', 'GNIS_ID', 'GNIS_NAME', 'RPUID', 'VPUID', 'gnis_name_lake', '', ' ', 'date_unity', 'FDATE']\n",
      "2022-12-03 19:29:46.044 | DEBUG    | utils:preprocess_feats:45 - Encoded 36 features: ['sat_LC08', 'sat_LE07', 'sat_LT05', 'sat_LC08', 'sat_LE07', 'sat_LT05', 'type_Estuary', 'type_Facility', 'type_Lake', 'type_Stream', 'type_Estuary', 'type_Facility', 'type_Lake', 'type_Stream', 'RESOLUTION_Medium', 'RESOLUTION_Medium', 'FLOWDIR_With Digitized', 'FLOWDIR_With Digitized', 'FTYPE_ArtificialPath', 'FTYPE_CanalDitch', 'FTYPE_Connector', 'FTYPE_StreamRiver', 'FTYPE_ArtificialPath', 'FTYPE_CanalDitch', 'FTYPE_Connector', 'FTYPE_StreamRiver', 'WBAreaType_ ', 'WBAreaType_CanalDitch', 'WBAreaType_LakePond', 'WBAreaType_Reservoir', 'WBAreaType_StreamRiver', 'WBAreaType_ ', 'WBAreaType_CanalDitch', 'WBAreaType_LakePond', 'WBAreaType_Reservoir', 'WBAreaType_StreamRiver']\n",
      "2022-12-03 19:29:46.044 | DEBUG    | utils:preprocess_feats:48 - Removing columns with missing values\n",
      "2022-12-03 19:29:46.120 | DEBUG    | utils:preprocess_feats:61 - Found 0 out of 437 features with missing values\n",
      "2022-12-03 19:29:46.121 | DEBUG    | utils:preprocess_feats:85 - Normalizing features\n"
     ]
    }
   ],
   "source": [
    "pd.options.mode.chained_assignment = None\n",
    "\n",
    "TO_NORM_FEATS = True # set to True to normalize features\n",
    "TO_NORM_LABELS = False # set to True to normalize labels\n",
    "TO_REMOVE_INC_COLS = True\n",
    "TO_REMOVE_INC_ROWS = False\n",
    "IS_PRED_EXP = False  # Set to True to directly predict TSS as np.exp(value). otherwise, estimate the ln of the actual TSS value and just modify for measuring metrics\n",
    "\n",
    "\n",
    "CV_FOLDS = 3\n",
    "train_data = pd.read_csv(\"D:/Research/AIST/data/train_raw.csv\")\n",
    "train_data_raw = train_data.copy()\n",
    "val_data = pd.read_csv(\"D:/Research/AIST/data/test_raw.csv\")\n",
    "\n",
    "if \"Unnamed: 0\" in train_data.columns:\n",
    "    train_data = train_data.drop(\"Unnamed: 0\", axis=1)\n",
    "# Replace missing values with mean (using only training data)\n",
    "for col in train_data.columns:\n",
    "    if col in DATE_FEATS:\n",
    "        continue\n",
    "    if col in CATEGORICAL_FEATS:\n",
    "        continue\n",
    "    if col in FEATS_TO_DISCARD:\n",
    "        continue\n",
    "    col_mean = train_data[col].mean()\n",
    "    train_data[col] = train_data[col].replace(np.nan, col_mean)\n",
    "    val_data[col] = val_data[col].replace(np.nan, col_mean)\n",
    "\n",
    "\n",
    "train_data, x_test, label_mu, label_sigma = preprocess_feats(\n",
    "    train_data,\n",
    "    val_data,\n",
    "    label=LABEL,\n",
    "    feats_to_encode=FEATS_TO_ENCODE,\n",
    "    feats_to_discard=FEATS_TO_DISCARD+DATE_FEATS,\n",
    "    group_names=GROUP_NAMES,\n",
    "    to_remove_incomplete_cols=TO_REMOVE_INC_COLS,\n",
    "    to_remove_rows_w_invalid_vals=TO_REMOVE_INC_ROWS,\n",
    "    to_norm_feats=TO_NORM_FEATS,\n",
    "    to_norm_labels=TO_NORM_LABELS,\n",
    ")\n",
    "\n",
    "x, y, groups = train_data[FEATS], train_data[LABEL], train_data_raw[GROUP_NAMES]\n",
    "x_test, y_test = x_test[FEATS], x_test[LABEL]\n",
    "y_test = np.exp(y_test) # need to np.exp since getting from raw values\n",
    "\n",
    "if \"index\" in train_data.columns:\n",
    "    train_data = train_data.drop(\"index\", axis=1)\n",
    "if \"index\" in x_test.columns:\n",
    "    x_test = x_test.drop(\"index\", axis=1)"
   ]
  },
  {
   "cell_type": "code",
   "execution_count": 17,
   "metadata": {},
   "outputs": [
    {
     "name": "stdout",
     "output_type": "stream",
     "text": [
      "[ 4.53  9.91 17.52 17.69 50.36 71.82 12.    9.67  6.14  2.34]\n"
     ]
    }
   ],
   "source": [
    "test_pred = xgb_130feats.predict(x_test[:10])\n",
    "test_pred = np.round(np.exp(test_pred),2)\n",
    "print(test_pred)"
   ]
  },
  {
   "cell_type": "markdown",
   "metadata": {},
   "source": [
    "### comparing pred and true avg TSS values for the different types"
   ]
  },
  {
   "cell_type": "code",
   "execution_count": 41,
   "metadata": {},
   "outputs": [
    {
     "name": "stdout",
     "output_type": "stream",
     "text": [
      "Lake pred avg TSS:  11.703561 pred Variance:  212.20241\n",
      "Stream pred avg TSS:  29.404556 pred Variance:  7630.826\n",
      "Estuary pred avg TSS:  15.533074 pred Variance:  99.42423\n",
      "Facility pred avg TSS:  18.664375 pred Variance:  127.28906\n"
     ]
    }
   ],
   "source": [
    "x_lake =  x_test.loc[x_test['type_Lake'] == 1]\n",
    "x_stream = x_test.loc[x_test['type_Stream'] == 1]\n",
    "x_estuary = x_test.loc[x_test['type_Estuary'] == 1]\n",
    "x_facility = x_test.loc[x_test['type_Facility'] == 1]\n",
    "\n",
    "lake_pred = np.round(np.exp(xgb_130feats.predict(x_lake)),2)\n",
    "stream_pred = np.round(np.exp(xgb_130feats.predict(x_stream)),2)\n",
    "estuary_pred = np.round(np.exp(xgb_130feats.predict(x_estuary)),2)\n",
    "facility_pred = np.round(np.exp(xgb_130feats.predict(x_facility)),2)\n",
    "\n",
    "x_axis = [\"Lake\", \"Stream\", \"Estuary\", \"Facility\"]\n",
    "pred_averages = [np.average(lake_pred), np.average(stream_pred), np.average(estuary_pred), np.average(facility_pred)]\n",
    "pred_vars = [np.var(lake_pred), np.var(stream_pred), np.var(estuary_pred), np.var(facility_pred)]\n",
    "\n",
    "print(\"Lake pred avg TSS: \", pred_averages[0], \"pred Variance: \", pred_vars[0])\n",
    "print(\"Stream pred avg TSS: \", pred_averages[1], \"pred Variance: \", pred_vars[1])\n",
    "print(\"Estuary pred avg TSS: \", pred_averages[2], \"pred Variance: \", pred_vars[2])\n",
    "print(\"Facility pred avg TSS: \", pred_averages[3], \"pred Variance: \", pred_vars[3])"
   ]
  },
  {
   "cell_type": "code",
   "execution_count": 42,
   "metadata": {},
   "outputs": [
    {
     "name": "stdout",
     "output_type": "stream",
     "text": [
      "Lake avg TSS:  14.232855464159812 Variance:  442.31828338569\n",
      "Stream avg TSS:  35.029978463747305 Variance:  11676.265298133061\n",
      "Estuary avg TSS:  19.103074501573975 Variance:  383.1893037688462\n",
      "Facility avg TSS:  28.26875 Variance:  1378.3133984375002\n"
     ]
    }
   ],
   "source": [
    "streams = val_data.loc[val_data['type'] == \"Stream\"]\n",
    "estuaries = val_data.loc[val_data['type'] == \"Estuary\"]\n",
    "lakes = val_data.loc[val_data['type'] == \"Lake\"]\n",
    "facilities = val_data.loc[val_data['type'] == \"Facility\"]\n",
    "\n",
    "streams_vals = np.round(np.exp(streams['value'].to_numpy()),2)\n",
    "estuaries_vals = np.round(np.exp(estuaries['value'].to_numpy()),2)\n",
    "lakes_vals = np.round(np.exp(lakes['value'].to_numpy()),2)\n",
    "facilities_vals = np.round(np.exp(facilities['value'].to_numpy()),2)\n",
    "\n",
    "true_averages = [np.average(lakes_vals), np.average(streams_vals), np.average(estuaries_vals), np.average(facilities_vals)]\n",
    "true_vars = [np.var(lakes_vals), np.var(streams_vals), np.var(estuaries_vals), np.var(facilities_vals)]\n",
    "\n",
    "print(\"Lake avg TSS: \", true_averages[0], \"Variance: \", true_vars[0])\n",
    "print(\"Stream avg TSS: \", true_averages[1], \"Variance: \", true_vars[1])\n",
    "print(\"Estuary avg TSS: \", true_averages[2], \"Variance: \", true_vars[2])\n",
    "print(\"Facility avg TSS: \", true_averages[3], \"Variance: \", true_vars[3])\n",
    "\n"
   ]
  },
  {
   "cell_type": "markdown",
   "metadata": {},
   "source": [
    "this graph just shows that the different types have noticeably different TSS averages "
   ]
  },
  {
   "cell_type": "code",
   "execution_count": 46,
   "metadata": {},
   "outputs": [
    {
     "data": {
      "image/png": "[encoded data removed]",
      "text/plain": [
       "<Figure size 640x480 with 1 Axes>"
      ]
     },
     "metadata": {},
     "output_type": "display_data"
    }
   ],
   "source": [
    "X_axis = np.arange(len(x_axis))\n",
    "\n",
    "plt.bar(X_axis - 0.2, true_averages, 0.4, label = 'True')\n",
    "plt.bar(X_axis + 0.2, pred_averages, 0.4, label = 'Pred')\n",
    "  \n",
    "plt.xticks(X_axis, x_axis)\n",
    "plt.xlabel(\"Types\")\n",
    "plt.ylabel(\"Avg TSS\")\n",
    "plt.title(\"True vs Pred Avg TSS by Type\")\n",
    "plt.legend()\n",
    "plt.show()"
   ]
  },
  {
   "cell_type": "markdown",
   "metadata": {},
   "source": [
    "this graph is not very informative other than showing stream variance is much higher than the rest (log y axis!) "
   ]
  },
  {
   "cell_type": "code",
   "execution_count": 51,
   "metadata": {},
   "outputs": [
    {
     "data": {
      "image/png": "[encoded data removed]",
      "text/plain": [
       "<Figure size 640x480 with 1 Axes>"
      ]
     },
     "metadata": {},
     "output_type": "display_data"
    }
   ],
   "source": [
    "X_axis = np.arange(len(x_axis))\n",
    "\n",
    "plt.bar(X_axis - 0.2, [math.log(y,10) for y in true_vars], 0.4, label = 'True')\n",
    "plt.bar(X_axis + 0.2, [math.log(y,10) for y in pred_vars], 0.4, label = 'Pred')\n",
    "  \n",
    "plt.xticks(X_axis, x_axis)\n",
    "plt.xlabel(\"Types\")\n",
    "plt.ylabel(\"log(Variance)\")\n",
    "plt.title(\"True vs Pred Variance by Type\")\n",
    "plt.legend()\n",
    "plt.show()"
   ]
  },
  {
   "cell_type": "code",
   "execution_count": null,
   "metadata": {},
   "outputs": [],
   "source": []
  }
 ],
 "metadata": {
  "kernelspec": {
   "display_name": "Python 3.8.13 ('aistenv')",
   "language": "python",
   "name": "python3"
  },
  "language_info": {
   "codemirror_mode": {
    "name": "ipython",
    "version": 3
   },
   "file_extension": ".py",
   "mimetype": "text/x-python",
   "name": "python",
   "nbconvert_exporter": "python",
   "pygments_lexer": "ipython3",
   "version": "3.8.13"
  },
  "orig_nbformat": 4,
  "vscode": {
   "interpreter": {
    "hash": "9917b08b8c841fa45c71a1a15cac3ea648c61aefb4b2df7605fdb08be43ef770"
   }
  }
 },
 "nbformat": 4,
 "nbformat_minor": 2
}
